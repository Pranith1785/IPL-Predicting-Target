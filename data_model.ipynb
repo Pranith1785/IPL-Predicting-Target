{
 "cells": [
  {
   "cell_type": "code",
   "execution_count": 20,
   "metadata": {},
   "outputs": [],
   "source": [
    "import pandas as pd \n",
    "from sklearn.model_selection import train_test_split,GridSearchCV\n",
    "from sklearn.metrics import mean_absolute_error\n",
    "from sklearn.linear_model import LinearRegression\n",
    "from sklearn.ensemble import RandomForestRegressor\n",
    "import lazypredict"
   ]
  },
  {
   "cell_type": "code",
   "execution_count": 21,
   "metadata": {},
   "outputs": [],
   "source": [
    "data = pd.read_csv('data/final_score_data.csv')"
   ]
  },
  {
   "cell_type": "code",
   "execution_count": 22,
   "metadata": {},
   "outputs": [
    {
     "output_type": "execute_result",
     "data": {
      "text/plain": "Index(['match_id', 'inning', 'batting_team', 'bowling_team', 'over', 'ball',\n       'total_runs', 'player_dismissed', 'Cumsum_Total', 'wickets_lost',\n       'total_wickets', 'Last_5overs_runs', 'Last_5overs_wickets',\n       'Total_Score', 'id', 'season', 'city', 'venue'],\n      dtype='object')"
     },
     "metadata": {},
     "execution_count": 22
    }
   ],
   "source": [
    "data.columns"
   ]
  },
  {
   "cell_type": "code",
   "execution_count": 23,
   "metadata": {},
   "outputs": [
    {
     "output_type": "execute_result",
     "data": {
      "text/plain": "   match_id  inning         batting_team                 bowling_team  over  \\\n0         1       1  Sunrisers Hyderabad  Royal Challengers Bangalore     1   \n1         1       1  Sunrisers Hyderabad  Royal Challengers Bangalore     1   \n2         1       1  Sunrisers Hyderabad  Royal Challengers Bangalore     1   \n3         1       1  Sunrisers Hyderabad  Royal Challengers Bangalore     1   \n4         1       1  Sunrisers Hyderabad  Royal Challengers Bangalore     1   \n\n   ball  total_runs player_dismissed  Cumsum_Total  wickets_lost  \\\n0     1           0              NaN             0             0   \n1     2           0              NaN             0             0   \n2     3           4              NaN             4             0   \n3     4           0              NaN             4             0   \n4     5           2              NaN             6             0   \n\n   total_wickets  Last_5overs_runs  Last_5overs_wickets  Total_Score  id  \\\n0              0               0.0                  0.0          207   1   \n1              0               0.0                  0.0          207   1   \n2              0               4.0                  0.0          207   1   \n3              0               4.0                  0.0          207   1   \n4              0               6.0                  0.0          207   1   \n\n   season       city                                      venue  \n0    2017  Hyderabad  Rajiv Gandhi International Stadium, Uppal  \n1    2017  Hyderabad  Rajiv Gandhi International Stadium, Uppal  \n2    2017  Hyderabad  Rajiv Gandhi International Stadium, Uppal  \n3    2017  Hyderabad  Rajiv Gandhi International Stadium, Uppal  \n4    2017  Hyderabad  Rajiv Gandhi International Stadium, Uppal  ",
      "text/html": "<div>\n<style scoped>\n    .dataframe tbody tr th:only-of-type {\n        vertical-align: middle;\n    }\n\n    .dataframe tbody tr th {\n        vertical-align: top;\n    }\n\n    .dataframe thead th {\n        text-align: right;\n    }\n</style>\n<table border=\"1\" class=\"dataframe\">\n  <thead>\n    <tr style=\"text-align: right;\">\n      <th></th>\n      <th>match_id</th>\n      <th>inning</th>\n      <th>batting_team</th>\n      <th>bowling_team</th>\n      <th>over</th>\n      <th>ball</th>\n      <th>total_runs</th>\n      <th>player_dismissed</th>\n      <th>Cumsum_Total</th>\n      <th>wickets_lost</th>\n      <th>total_wickets</th>\n      <th>Last_5overs_runs</th>\n      <th>Last_5overs_wickets</th>\n      <th>Total_Score</th>\n      <th>id</th>\n      <th>season</th>\n      <th>city</th>\n      <th>venue</th>\n    </tr>\n  </thead>\n  <tbody>\n    <tr>\n      <td>0</td>\n      <td>1</td>\n      <td>1</td>\n      <td>Sunrisers Hyderabad</td>\n      <td>Royal Challengers Bangalore</td>\n      <td>1</td>\n      <td>1</td>\n      <td>0</td>\n      <td>NaN</td>\n      <td>0</td>\n      <td>0</td>\n      <td>0</td>\n      <td>0.0</td>\n      <td>0.0</td>\n      <td>207</td>\n      <td>1</td>\n      <td>2017</td>\n      <td>Hyderabad</td>\n      <td>Rajiv Gandhi International Stadium, Uppal</td>\n    </tr>\n    <tr>\n      <td>1</td>\n      <td>1</td>\n      <td>1</td>\n      <td>Sunrisers Hyderabad</td>\n      <td>Royal Challengers Bangalore</td>\n      <td>1</td>\n      <td>2</td>\n      <td>0</td>\n      <td>NaN</td>\n      <td>0</td>\n      <td>0</td>\n      <td>0</td>\n      <td>0.0</td>\n      <td>0.0</td>\n      <td>207</td>\n      <td>1</td>\n      <td>2017</td>\n      <td>Hyderabad</td>\n      <td>Rajiv Gandhi International Stadium, Uppal</td>\n    </tr>\n    <tr>\n      <td>2</td>\n      <td>1</td>\n      <td>1</td>\n      <td>Sunrisers Hyderabad</td>\n      <td>Royal Challengers Bangalore</td>\n      <td>1</td>\n      <td>3</td>\n      <td>4</td>\n      <td>NaN</td>\n      <td>4</td>\n      <td>0</td>\n      <td>0</td>\n      <td>4.0</td>\n      <td>0.0</td>\n      <td>207</td>\n      <td>1</td>\n      <td>2017</td>\n      <td>Hyderabad</td>\n      <td>Rajiv Gandhi International Stadium, Uppal</td>\n    </tr>\n    <tr>\n      <td>3</td>\n      <td>1</td>\n      <td>1</td>\n      <td>Sunrisers Hyderabad</td>\n      <td>Royal Challengers Bangalore</td>\n      <td>1</td>\n      <td>4</td>\n      <td>0</td>\n      <td>NaN</td>\n      <td>4</td>\n      <td>0</td>\n      <td>0</td>\n      <td>4.0</td>\n      <td>0.0</td>\n      <td>207</td>\n      <td>1</td>\n      <td>2017</td>\n      <td>Hyderabad</td>\n      <td>Rajiv Gandhi International Stadium, Uppal</td>\n    </tr>\n    <tr>\n      <td>4</td>\n      <td>1</td>\n      <td>1</td>\n      <td>Sunrisers Hyderabad</td>\n      <td>Royal Challengers Bangalore</td>\n      <td>1</td>\n      <td>5</td>\n      <td>2</td>\n      <td>NaN</td>\n      <td>6</td>\n      <td>0</td>\n      <td>0</td>\n      <td>6.0</td>\n      <td>0.0</td>\n      <td>207</td>\n      <td>1</td>\n      <td>2017</td>\n      <td>Hyderabad</td>\n      <td>Rajiv Gandhi International Stadium, Uppal</td>\n    </tr>\n  </tbody>\n</table>\n</div>"
     },
     "metadata": {},
     "execution_count": 23
    }
   ],
   "source": [
    "data.head(5)"
   ]
  },
  {
   "cell_type": "code",
   "execution_count": 24,
   "metadata": {},
   "outputs": [],
   "source": [
    "cols_remove = ['total_runs', 'player_dismissed', 'Cumsum_Total', 'wickets_lost','id']\n",
    "data.drop(labels = cols_remove,axis=1,inplace=True)"
   ]
  },
  {
   "cell_type": "code",
   "execution_count": 25,
   "metadata": {},
   "outputs": [
    {
     "output_type": "execute_result",
     "data": {
      "text/plain": "array(['Sunrisers Hyderabad', 'Royal Challengers Bangalore',\n       'Mumbai Indians', 'Rising Pune Supergiant', 'Gujarat Lions',\n       'Kolkata Knight Riders', 'Kings XI Punjab', 'Delhi Daredevils',\n       'Chennai Super Kings', 'Rajasthan Royals', 'Deccan Chargers',\n       'Kochi Tuskers Kerala', 'Pune Warriors', 'Rising Pune Supergiants',\n       'Delhi Capitals'], dtype=object)"
     },
     "metadata": {},
     "execution_count": 25
    }
   ],
   "source": [
    "data['batting_team'].unique()"
   ]
  },
  {
   "cell_type": "code",
   "execution_count": 26,
   "metadata": {},
   "outputs": [
    {
     "output_type": "execute_result",
     "data": {
      "text/plain": "batting_team\nChennai Super Kings            [2008, 2009, 2010, 2011, 2012, 2013, 2014, 201...\nDeccan Chargers                                   [2008, 2009, 2010, 2011, 2012]\nDelhi Capitals                                                            [2019]\nDelhi Daredevils               [2017, 2008, 2009, 2010, 2011, 2012, 2013, 201...\nGujarat Lions                                                       [2017, 2016]\nKings XI Punjab                [2017, 2008, 2009, 2010, 2011, 2012, 2013, 201...\nKochi Tuskers Kerala                                                      [2011]\nKolkata Knight Riders          [2017, 2008, 2009, 2010, 2011, 2012, 2013, 201...\nMumbai Indians                 [2017, 2008, 2009, 2010, 2011, 2012, 2013, 201...\nPune Warriors                                                 [2011, 2012, 2013]\nRajasthan Royals               [2008, 2009, 2010, 2011, 2012, 2013, 2014, 201...\nRising Pune Supergiant                                                    [2017]\nRising Pune Supergiants                                                   [2016]\nRoyal Challengers Bangalore    [2017, 2008, 2009, 2010, 2011, 2012, 2013, 201...\nSunrisers Hyderabad                   [2017, 2013, 2014, 2015, 2016, 2018, 2019]\nName: season, dtype: object"
     },
     "metadata": {},
     "execution_count": 26
    }
   ],
   "source": [
    "data.groupby(by='batting_team')['season'].unique()"
   ]
  },
  {
   "cell_type": "code",
   "execution_count": 27,
   "metadata": {},
   "outputs": [],
   "source": [
    "## dropping the below Teams\n",
    "drop_teams = ['Pune Warriors','Kochi Tuskers Kerala']\n",
    "drop_teams_rowId = data[data['batting_team'].isin(drop_teams) | data['bowling_team'].isin(drop_teams)].index\n",
    "\n",
    "data.drop(labels=drop_teams_rowId,axis=0,inplace=True)"
   ]
  },
  {
   "cell_type": "code",
   "execution_count": 28,
   "metadata": {},
   "outputs": [],
   "source": [
    "## Replacing some teams with other teams and also replacing with Shortnames\n",
    "rename_map = {'Rising Pune Supergiant':'CSK','Chennai Super Kings':'CSK','Rising Pune Supergiants':'CSK',\n",
    "              'Deccan Chargers':'SRH', 'Sunrisers Hyderabad':'SRH',\n",
    "              'Delhi Daredevils' : 'DC','Delhi Capitals':'DC',\n",
    "              'Gujarat Lions' : 'RR', 'Rajasthan Royals':'RR',\n",
    "              'Kings XI Punjab' : 'KXIP',\n",
    "              'Royal Challengers Bangalore' : 'RCB',\n",
    "              'Mumbai Indians' : 'MI',\n",
    "              'Kolkata Knight Riders' : 'KKR'}\n",
    "              \n",
    "data['batting_team'] = data['batting_team'].map(rename_map).fillna(data['batting_team'])\n",
    "data['bowling_team'] = data['bowling_team'].map(rename_map).fillna(data['bowling_team'])"
   ]
  },
  {
   "cell_type": "code",
   "execution_count": 29,
   "metadata": {
    "tags": []
   },
   "outputs": [
    {
     "output_type": "stream",
     "name": "stdout",
     "text": "40\n"
    },
    {
     "output_type": "execute_result",
     "data": {
      "text/plain": "array(['Rajiv Gandhi International Stadium, Uppal',\n       'Maharashtra Cricket Association Stadium',\n       'Saurashtra Cricket Association Stadium', 'Holkar Cricket Stadium',\n       'M Chinnaswamy Stadium', 'Wankhede Stadium', 'Eden Gardens',\n       'Feroz Shah Kotla',\n       'Punjab Cricket Association IS Bindra Stadium, Mohali',\n       'Green Park', 'Punjab Cricket Association Stadium, Mohali',\n       'Sawai Mansingh Stadium', 'MA Chidambaram Stadium, Chepauk',\n       'Dr DY Patil Sports Academy', 'Newlands', \"St George's Park\",\n       'Kingsmead', 'SuperSport Park', 'Buffalo Park',\n       'New Wanderers Stadium', 'De Beers Diamond Oval',\n       'OUTsurance Oval', 'Brabourne Stadium',\n       'Sardar Patel Stadium, Motera', 'Barabati Stadium',\n       'Vidarbha Cricket Association Stadium, Jamtha',\n       'Himachal Pradesh Cricket Association Stadium',\n       'Dr. Y.S. Rajasekhara Reddy ACA-VDCA Cricket Stadium',\n       'Subrata Roy Sahara Stadium',\n       'Shaheed Veer Narayan Singh International Stadium',\n       'JSCA International Stadium Complex', 'Sheikh Zayed Stadium',\n       'Sharjah Cricket Stadium', 'Dubai International Cricket Stadium',\n       'M. A. Chidambaram Stadium', 'Feroz Shah Kotla Ground',\n       'M. Chinnaswamy Stadium', 'Rajiv Gandhi Intl. Cricket Stadium',\n       'IS Bindra Stadium', 'ACA-VDCA Stadium'], dtype=object)"
     },
     "metadata": {},
     "execution_count": 29
    }
   ],
   "source": [
    "## Location and venues\n",
    "print(data['venue'].nunique())\n",
    "data['venue'].unique()"
   ]
  },
  {
   "cell_type": "code",
   "execution_count": 34,
   "metadata": {
    "tags": []
   },
   "outputs": [
    {
     "output_type": "stream",
     "name": "stdout",
     "text": "34\n"
    }
   ],
   "source": [
    "## Mapping the Stadium names(venue), same stadium name is written in different ways\n",
    "rename_stadium = {'Rajiv Gandhi International Stadium, Uppal' : 'RGIS',\n",
    "                    'Maharashtra Cricket Association Stadium':'MCAS',\n",
    "                    'Saurashtra Cricket Association Stadium' : 'SCAS' , \n",
    "                    'Holkar Cricket Stadium': 'HCS',\n",
    "                    'M Chinnaswamy Stadium' : 'MCS',\n",
    "                    'Wankhede Stadium' : 'WS', \n",
    "                    'Eden Gardens':'Eden',\n",
    "                    'Feroz Shah Kotla' : 'FSK',\n",
    "                    'Punjab Cricket Association IS Bindra Stadium, Mohali' : 'PCAS',\n",
    "                    'Green Park' : 'GreenPark', \n",
    "                    'Punjab Cricket Association Stadium, Mohali' : 'PCAS',\n",
    "                    'Sawai Mansingh Stadium' : 'SMS', \n",
    "                    'MA Chidambaram Stadium, Chepauk' : 'MACS',\n",
    "                    'Dr DY Patil Sports Academy' : 'DYPSA', \n",
    "                    'Newlands' : 'Newlands', \n",
    "                    \"St George's Park\" : 'GeorgePark',\n",
    "                    'Kingsmead' : 'Kingsmead', \n",
    "                    'SuperSport Park' : 'SuperSport', \n",
    "                    'Buffalo Park' : 'BuffaloPark',\n",
    "                    'New Wanderers Stadium' : 'NewWanderers', \n",
    "                    'De Beers Diamond Oval' : 'DeBeersDiamond',\n",
    "                    'OUTsurance Oval' : 'OUTsurance', \n",
    "                    'Brabourne Stadium' : 'Brabourne',\n",
    "                    'Sardar Patel Stadium, Motera' : 'SPS',\n",
    "                    'Barabati Stadium' : 'Barabati',\n",
    "                    'Vidarbha Cricket Association Stadium, Jamtha' : 'VCAS',\n",
    "                    'Himachal Pradesh Cricket Association Stadium' : 'HPCAS',\n",
    "                    'Dr. Y.S. Rajasekhara Reddy ACA-VDCA Cricket Stadium' : 'YSRACACS',\n",
    "                    'Subrata Roy Sahara Stadium' : 'SRSS',\n",
    "                    'Shaheed Veer Narayan Singh International Stadium' : 'SVNSIS',\n",
    "                    'JSCA International Stadium Complex' : 'JSCAISC', \n",
    "                    'Sheikh Zayed Stadium' : 'SZS',\n",
    "                    'Sharjah Cricket Stadium' : 'Sharjah', \n",
    "                    'Dubai International Cricket Stadium' : 'DICS',\n",
    "                    'M. A. Chidambaram Stadium' : 'MACS', \n",
    "                    'Feroz Shah Kotla Ground' : 'FSKG',\n",
    "                    'M. Chinnaswamy Stadium' : 'MCS', \n",
    "                    'Rajiv Gandhi Intl. Cricket Stadium' : 'RGIS',\n",
    "                    'IS Bindra Stadium' : 'PCAS', \n",
    "                    'ACA-VDCA Stadium' : 'YSRACACS' }\n",
    "\n",
    "data['venue1'] = data['venue'].map(rename_stadium).fillna(data['venue'])\n",
    "print(data['venue1'].nunique())"
   ]
  },
  {
   "cell_type": "code",
   "execution_count": 35,
   "metadata": {},
   "outputs": [
    {
     "output_type": "execute_result",
     "data": {
      "text/plain": "city\nAbu Dhabi                          [SZS]\nAhmedabad                          [SPS]\nBangalore                          [MCS]\nBengaluru                          [MCS]\nBloemfontein                [OUTsurance]\nCape Town                     [Newlands]\nCenturion                   [SuperSport]\nChandigarh                        [PCAS]\nChennai                           [MACS]\nCuttack                       [Barabati]\nDelhi                        [FSK, FSKG]\nDharamsala                       [HPCAS]\nDurban                       [Kingsmead]\nEast London                [BuffaloPark]\nHyderabad                         [RGIS]\nIndore                             [HCS]\nJaipur                             [SMS]\nJohannesburg              [NewWanderers]\nKanpur                       [GreenPark]\nKimberley               [DeBeersDiamond]\nKolkata                           [Eden]\nMohali                            [PCAS]\nMumbai            [WS, DYPSA, Brabourne]\nNagpur                            [VCAS]\nPort Elizabeth              [GeorgePark]\nPune                        [MCAS, SRSS]\nRaipur                          [SVNSIS]\nRajkot                            [SCAS]\nRanchi                         [JSCAISC]\nSharjah                        [Sharjah]\nVisakhapatnam                 [YSRACACS]\nName: venue1, dtype: object"
     },
     "metadata": {},
     "execution_count": 35
    }
   ],
   "source": []
  },
  {
   "cell_type": "code",
   "execution_count": null,
   "metadata": {},
   "outputs": [],
   "source": []
  }
 ],
 "metadata": {
  "language_info": {
   "codemirror_mode": {
    "name": "ipython",
    "version": 3
   },
   "file_extension": ".py",
   "mimetype": "text/x-python",
   "name": "python",
   "nbconvert_exporter": "python",
   "pygments_lexer": "ipython3",
   "version": "3.7.4-final"
  },
  "orig_nbformat": 2,
  "kernelspec": {
   "name": "python3",
   "display_name": "Python 3"
  }
 },
 "nbformat": 4,
 "nbformat_minor": 2
}