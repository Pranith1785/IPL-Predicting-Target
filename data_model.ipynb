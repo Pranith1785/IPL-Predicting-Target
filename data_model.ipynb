{
 "cells": [
  {
   "cell_type": "code",
   "execution_count": 1,
   "metadata": {},
   "outputs": [],
   "source": [
    "import pandas as pd \n",
    "from sklearn.model_selection import train_test_split,GridSearchCV\n",
    "from sklearn.metrics import mean_absolute_error"
   ]
  },
  {
   "cell_type": "code",
   "execution_count": null,
   "metadata": {},
   "outputs": [],
   "source": [
    "from sklearn.linear_model import LinearRegression\n",
    "from sklearn.ensemble import RandomForestRegressor\n"
   ]
  },
  {
   "cell_type": "code",
   "execution_count": 3,
   "metadata": {},
   "outputs": [],
   "source": [
    "data = pd.read_csv('data/final_score_data.csv')"
   ]
  },
  {
   "cell_type": "code",
   "execution_count": 5,
   "metadata": {},
   "outputs": [
    {
     "output_type": "execute_result",
     "data": {
      "text/plain": "Index(['match_id', 'inning', 'batting_team', 'bowling_team', 'over', 'ball',\n       'total_runs', 'player_dismissed', 'Cumsum_Total', 'wickets_lost',\n       'total_wickets', 'Last_5overs_runs', 'Last_5overs_wickets',\n       'Total_Score', 'id', 'season', 'city', 'venue'],\n      dtype='object')"
     },
     "metadata": {},
     "execution_count": 5
    }
   ],
   "source": [
    "data.columns"
   ]
  },
  {
   "cell_type": "code",
   "execution_count": 6,
   "metadata": {},
   "outputs": [
    {
     "output_type": "execute_result",
     "data": {
      "text/plain": "   match_id  inning         batting_team                 bowling_team  over  \\\n0         1       1  Sunrisers Hyderabad  Royal Challengers Bangalore     1   \n1         1       1  Sunrisers Hyderabad  Royal Challengers Bangalore     1   \n2         1       1  Sunrisers Hyderabad  Royal Challengers Bangalore     1   \n3         1       1  Sunrisers Hyderabad  Royal Challengers Bangalore     1   \n4         1       1  Sunrisers Hyderabad  Royal Challengers Bangalore     1   \n\n   ball  total_runs player_dismissed  Cumsum_Total  wickets_lost  \\\n0     1           0              NaN             0             0   \n1     2           0              NaN             0             0   \n2     3           4              NaN             4             0   \n3     4           0              NaN             4             0   \n4     5           2              NaN             6             0   \n\n   total_wickets  Last_5overs_runs  Last_5overs_wickets  Total_Score  id  \\\n0              0               0.0                  0.0          207   1   \n1              0               0.0                  0.0          207   1   \n2              0               4.0                  0.0          207   1   \n3              0               4.0                  0.0          207   1   \n4              0               6.0                  0.0          207   1   \n\n   season       city                                      venue  \n0    2017  Hyderabad  Rajiv Gandhi International Stadium, Uppal  \n1    2017  Hyderabad  Rajiv Gandhi International Stadium, Uppal  \n2    2017  Hyderabad  Rajiv Gandhi International Stadium, Uppal  \n3    2017  Hyderabad  Rajiv Gandhi International Stadium, Uppal  \n4    2017  Hyderabad  Rajiv Gandhi International Stadium, Uppal  ",
      "text/html": "<div>\n<style scoped>\n    .dataframe tbody tr th:only-of-type {\n        vertical-align: middle;\n    }\n\n    .dataframe tbody tr th {\n        vertical-align: top;\n    }\n\n    .dataframe thead th {\n        text-align: right;\n    }\n</style>\n<table border=\"1\" class=\"dataframe\">\n  <thead>\n    <tr style=\"text-align: right;\">\n      <th></th>\n      <th>match_id</th>\n      <th>inning</th>\n      <th>batting_team</th>\n      <th>bowling_team</th>\n      <th>over</th>\n      <th>ball</th>\n      <th>total_runs</th>\n      <th>player_dismissed</th>\n      <th>Cumsum_Total</th>\n      <th>wickets_lost</th>\n      <th>total_wickets</th>\n      <th>Last_5overs_runs</th>\n      <th>Last_5overs_wickets</th>\n      <th>Total_Score</th>\n      <th>id</th>\n      <th>season</th>\n      <th>city</th>\n      <th>venue</th>\n    </tr>\n  </thead>\n  <tbody>\n    <tr>\n      <td>0</td>\n      <td>1</td>\n      <td>1</td>\n      <td>Sunrisers Hyderabad</td>\n      <td>Royal Challengers Bangalore</td>\n      <td>1</td>\n      <td>1</td>\n      <td>0</td>\n      <td>NaN</td>\n      <td>0</td>\n      <td>0</td>\n      <td>0</td>\n      <td>0.0</td>\n      <td>0.0</td>\n      <td>207</td>\n      <td>1</td>\n      <td>2017</td>\n      <td>Hyderabad</td>\n      <td>Rajiv Gandhi International Stadium, Uppal</td>\n    </tr>\n    <tr>\n      <td>1</td>\n      <td>1</td>\n      <td>1</td>\n      <td>Sunrisers Hyderabad</td>\n      <td>Royal Challengers Bangalore</td>\n      <td>1</td>\n      <td>2</td>\n      <td>0</td>\n      <td>NaN</td>\n      <td>0</td>\n      <td>0</td>\n      <td>0</td>\n      <td>0.0</td>\n      <td>0.0</td>\n      <td>207</td>\n      <td>1</td>\n      <td>2017</td>\n      <td>Hyderabad</td>\n      <td>Rajiv Gandhi International Stadium, Uppal</td>\n    </tr>\n    <tr>\n      <td>2</td>\n      <td>1</td>\n      <td>1</td>\n      <td>Sunrisers Hyderabad</td>\n      <td>Royal Challengers Bangalore</td>\n      <td>1</td>\n      <td>3</td>\n      <td>4</td>\n      <td>NaN</td>\n      <td>4</td>\n      <td>0</td>\n      <td>0</td>\n      <td>4.0</td>\n      <td>0.0</td>\n      <td>207</td>\n      <td>1</td>\n      <td>2017</td>\n      <td>Hyderabad</td>\n      <td>Rajiv Gandhi International Stadium, Uppal</td>\n    </tr>\n    <tr>\n      <td>3</td>\n      <td>1</td>\n      <td>1</td>\n      <td>Sunrisers Hyderabad</td>\n      <td>Royal Challengers Bangalore</td>\n      <td>1</td>\n      <td>4</td>\n      <td>0</td>\n      <td>NaN</td>\n      <td>4</td>\n      <td>0</td>\n      <td>0</td>\n      <td>4.0</td>\n      <td>0.0</td>\n      <td>207</td>\n      <td>1</td>\n      <td>2017</td>\n      <td>Hyderabad</td>\n      <td>Rajiv Gandhi International Stadium, Uppal</td>\n    </tr>\n    <tr>\n      <td>4</td>\n      <td>1</td>\n      <td>1</td>\n      <td>Sunrisers Hyderabad</td>\n      <td>Royal Challengers Bangalore</td>\n      <td>1</td>\n      <td>5</td>\n      <td>2</td>\n      <td>NaN</td>\n      <td>6</td>\n      <td>0</td>\n      <td>0</td>\n      <td>6.0</td>\n      <td>0.0</td>\n      <td>207</td>\n      <td>1</td>\n      <td>2017</td>\n      <td>Hyderabad</td>\n      <td>Rajiv Gandhi International Stadium, Uppal</td>\n    </tr>\n  </tbody>\n</table>\n</div>"
     },
     "metadata": {},
     "execution_count": 6
    }
   ],
   "source": [
    "data.head(5)"
   ]
  },
  {
   "cell_type": "code",
   "execution_count": null,
   "metadata": {},
   "outputs": [],
   "source": [
    "cols_remove = ['total_runs', 'player_dismissed', 'Cumsum_Total', 'wickets_lost','id']\n",
    "data.drop(labels = cols_remove,axis=1,inplace=True)"
   ]
  },
  {
   "cell_type": "code",
   "execution_count": 9,
   "metadata": {},
   "outputs": [
    {
     "output_type": "execute_result",
     "data": {
      "text/plain": "array(['Sunrisers Hyderabad', 'Royal Challengers Bangalore',\n       'Mumbai Indians', 'Rising Pune Supergiant', 'Gujarat Lions',\n       'Kolkata Knight Riders', 'Kings XI Punjab', 'Delhi Daredevils',\n       'Chennai Super Kings', 'Rajasthan Royals', 'Deccan Chargers',\n       'Kochi Tuskers Kerala', 'Pune Warriors', 'Rising Pune Supergiants',\n       'Delhi Capitals'], dtype=object)"
     },
     "metadata": {},
     "execution_count": 9
    }
   ],
   "source": [
    "data['batting_team'].unique()"
   ]
  },
  {
   "cell_type": "code",
   "execution_count": 18,
   "metadata": {},
   "outputs": [
    {
     "output_type": "execute_result",
     "data": {
      "text/plain": "batting_team\nChennai Super Kings            [2008, 2009, 2010, 2011, 2012, 2013, 2014, 201...\nDeccan Chargers                                   [2008, 2009, 2010, 2011, 2012]\nDelhi Capitals                                                            [2019]\nDelhi Daredevils               [2017, 2008, 2009, 2010, 2011, 2012, 2013, 201...\nGujarat Lions                                                       [2017, 2016]\nKings XI Punjab                [2017, 2008, 2009, 2010, 2011, 2012, 2013, 201...\nKochi Tuskers Kerala                                                      [2011]\nKolkata Knight Riders          [2017, 2008, 2009, 2010, 2011, 2012, 2013, 201...\nMumbai Indians                 [2017, 2008, 2009, 2010, 2011, 2012, 2013, 201...\nPune Warriors                                                 [2011, 2012, 2013]\nRajasthan Royals               [2008, 2009, 2010, 2011, 2012, 2013, 2014, 201...\nRising Pune Supergiant                                                    [2017]\nRising Pune Supergiants                                                   [2016]\nRoyal Challengers Bangalore    [2017, 2008, 2009, 2010, 2011, 2012, 2013, 201...\nSunrisers Hyderabad                   [2017, 2013, 2014, 2015, 2016, 2018, 2019]\nName: season, dtype: object"
     },
     "metadata": {},
     "execution_count": 18
    }
   ],
   "source": [
    "data.groupby(by='batting_team')['season'].unique()"
   ]
  },
  {
   "cell_type": "code",
   "execution_count": 27,
   "metadata": {},
   "outputs": [],
   "source": [
    "## dropping the below Teams\n",
    "drop_teams = ['Pune Warriors','Kochi Tuskers Kerala']\n",
    "drop_teams_rowId = data[data['batting_team'].isin(drop_teams) | data['bowling_team'].isin(drop_teams)].index\n",
    "\n",
    "data.drop(labels=drop_teams_rowId,axis=0,inplace=True)"
   ]
  },
  {
   "cell_type": "code",
   "execution_count": null,
   "metadata": {},
   "outputs": [],
   "source": [
    "## Replacing some of the team names\n",
    "rename_map = {'Rising Pune Supergiant':'Chennai Super Kings','Rising Pune Supergiants':'Chennai Super Kings',\n",
    "              'Deccan Chargers':'Sunrisers Hyderabad', 'Delhi Daredevils' : 'Delhi Capitals',\n",
    "               'Gujarat Lions' : 'Rajasthan Royals'}"
   ]
  }
 ],
 "metadata": {
  "language_info": {
   "codemirror_mode": {
    "name": "ipython",
    "version": 3
   },
   "file_extension": ".py",
   "mimetype": "text/x-python",
   "name": "python",
   "nbconvert_exporter": "python",
   "pygments_lexer": "ipython3",
   "version": "3.7.4-final"
  },
  "orig_nbformat": 2,
  "kernelspec": {
   "name": "python3",
   "display_name": "Python 3"
  }
 },
 "nbformat": 4,
 "nbformat_minor": 2
}