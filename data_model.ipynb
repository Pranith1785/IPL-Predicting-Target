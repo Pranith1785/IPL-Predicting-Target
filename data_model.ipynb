{
 "cells": [
  {
   "cell_type": "markdown",
   "metadata": {},
   "source": [
    "## Model Development"
   ]
  },
  {
   "cell_type": "code",
   "execution_count": 22,
   "metadata": {},
   "outputs": [],
   "source": [
    "import os,sys\n",
    "import pandas as pd \n",
    "import numpy as np\n",
    "from sklearn.linear_model import LinearRegression, Lasso\n",
    "from sklearn.ensemble import RandomForestRegressor\n",
    "from sklearn.model_selection import train_test_split,GridSearchCV\n",
    "from sklearn.metrics import mean_absolute_error, mean_squared_error, r2_score\n",
    "import joblib"
   ]
  },
  {
   "cell_type": "code",
   "execution_count": 2,
   "metadata": {},
   "outputs": [],
   "source": [
    "data = pd.read_csv('data/final_score_data.csv')"
   ]
  },
  {
   "cell_type": "code",
   "execution_count": 3,
   "metadata": {},
   "outputs": [
    {
     "output_type": "execute_result",
     "data": {
      "text/plain": "Index(['match_id', 'inning', 'batting_team', 'bowling_team', 'over', 'ball',\n       'total_runs', 'player_dismissed', 'Cumsum_Total', 'wickets_lost',\n       'total_wickets', 'Last_5overs_runs', 'Last_5overs_wickets',\n       'Total_Score', 'id', 'season', 'city', 'venue'],\n      dtype='object')"
     },
     "metadata": {},
     "execution_count": 3
    }
   ],
   "source": [
    "data.columns"
   ]
  },
  {
   "cell_type": "code",
   "execution_count": 4,
   "metadata": {},
   "outputs": [
    {
     "output_type": "execute_result",
     "data": {
      "text/plain": "   match_id  inning         batting_team                 bowling_team  over  \\\n0         1       1  Sunrisers Hyderabad  Royal Challengers Bangalore     1   \n1         1       1  Sunrisers Hyderabad  Royal Challengers Bangalore     1   \n2         1       1  Sunrisers Hyderabad  Royal Challengers Bangalore     1   \n3         1       1  Sunrisers Hyderabad  Royal Challengers Bangalore     1   \n4         1       1  Sunrisers Hyderabad  Royal Challengers Bangalore     1   \n\n   ball  total_runs player_dismissed  Cumsum_Total  wickets_lost  \\\n0     1           0              NaN             0             0   \n1     2           0              NaN             0             0   \n2     3           4              NaN             4             0   \n3     4           0              NaN             4             0   \n4     5           2              NaN             6             0   \n\n   total_wickets  Last_5overs_runs  Last_5overs_wickets  Total_Score  id  \\\n0              0               0.0                  0.0          207   1   \n1              0               0.0                  0.0          207   1   \n2              0               4.0                  0.0          207   1   \n3              0               4.0                  0.0          207   1   \n4              0               6.0                  0.0          207   1   \n\n   season       city                                      venue  \n0    2017  Hyderabad  Rajiv Gandhi International Stadium, Uppal  \n1    2017  Hyderabad  Rajiv Gandhi International Stadium, Uppal  \n2    2017  Hyderabad  Rajiv Gandhi International Stadium, Uppal  \n3    2017  Hyderabad  Rajiv Gandhi International Stadium, Uppal  \n4    2017  Hyderabad  Rajiv Gandhi International Stadium, Uppal  ",
      "text/html": "<div>\n<style scoped>\n    .dataframe tbody tr th:only-of-type {\n        vertical-align: middle;\n    }\n\n    .dataframe tbody tr th {\n        vertical-align: top;\n    }\n\n    .dataframe thead th {\n        text-align: right;\n    }\n</style>\n<table border=\"1\" class=\"dataframe\">\n  <thead>\n    <tr style=\"text-align: right;\">\n      <th></th>\n      <th>match_id</th>\n      <th>inning</th>\n      <th>batting_team</th>\n      <th>bowling_team</th>\n      <th>over</th>\n      <th>ball</th>\n      <th>total_runs</th>\n      <th>player_dismissed</th>\n      <th>Cumsum_Total</th>\n      <th>wickets_lost</th>\n      <th>total_wickets</th>\n      <th>Last_5overs_runs</th>\n      <th>Last_5overs_wickets</th>\n      <th>Total_Score</th>\n      <th>id</th>\n      <th>season</th>\n      <th>city</th>\n      <th>venue</th>\n    </tr>\n  </thead>\n  <tbody>\n    <tr>\n      <td>0</td>\n      <td>1</td>\n      <td>1</td>\n      <td>Sunrisers Hyderabad</td>\n      <td>Royal Challengers Bangalore</td>\n      <td>1</td>\n      <td>1</td>\n      <td>0</td>\n      <td>NaN</td>\n      <td>0</td>\n      <td>0</td>\n      <td>0</td>\n      <td>0.0</td>\n      <td>0.0</td>\n      <td>207</td>\n      <td>1</td>\n      <td>2017</td>\n      <td>Hyderabad</td>\n      <td>Rajiv Gandhi International Stadium, Uppal</td>\n    </tr>\n    <tr>\n      <td>1</td>\n      <td>1</td>\n      <td>1</td>\n      <td>Sunrisers Hyderabad</td>\n      <td>Royal Challengers Bangalore</td>\n      <td>1</td>\n      <td>2</td>\n      <td>0</td>\n      <td>NaN</td>\n      <td>0</td>\n      <td>0</td>\n      <td>0</td>\n      <td>0.0</td>\n      <td>0.0</td>\n      <td>207</td>\n      <td>1</td>\n      <td>2017</td>\n      <td>Hyderabad</td>\n      <td>Rajiv Gandhi International Stadium, Uppal</td>\n    </tr>\n    <tr>\n      <td>2</td>\n      <td>1</td>\n      <td>1</td>\n      <td>Sunrisers Hyderabad</td>\n      <td>Royal Challengers Bangalore</td>\n      <td>1</td>\n      <td>3</td>\n      <td>4</td>\n      <td>NaN</td>\n      <td>4</td>\n      <td>0</td>\n      <td>0</td>\n      <td>4.0</td>\n      <td>0.0</td>\n      <td>207</td>\n      <td>1</td>\n      <td>2017</td>\n      <td>Hyderabad</td>\n      <td>Rajiv Gandhi International Stadium, Uppal</td>\n    </tr>\n    <tr>\n      <td>3</td>\n      <td>1</td>\n      <td>1</td>\n      <td>Sunrisers Hyderabad</td>\n      <td>Royal Challengers Bangalore</td>\n      <td>1</td>\n      <td>4</td>\n      <td>0</td>\n      <td>NaN</td>\n      <td>4</td>\n      <td>0</td>\n      <td>0</td>\n      <td>4.0</td>\n      <td>0.0</td>\n      <td>207</td>\n      <td>1</td>\n      <td>2017</td>\n      <td>Hyderabad</td>\n      <td>Rajiv Gandhi International Stadium, Uppal</td>\n    </tr>\n    <tr>\n      <td>4</td>\n      <td>1</td>\n      <td>1</td>\n      <td>Sunrisers Hyderabad</td>\n      <td>Royal Challengers Bangalore</td>\n      <td>1</td>\n      <td>5</td>\n      <td>2</td>\n      <td>NaN</td>\n      <td>6</td>\n      <td>0</td>\n      <td>0</td>\n      <td>6.0</td>\n      <td>0.0</td>\n      <td>207</td>\n      <td>1</td>\n      <td>2017</td>\n      <td>Hyderabad</td>\n      <td>Rajiv Gandhi International Stadium, Uppal</td>\n    </tr>\n  </tbody>\n</table>\n</div>"
     },
     "metadata": {},
     "execution_count": 4
    }
   ],
   "source": [
    "data.head(5)"
   ]
  },
  {
   "cell_type": "code",
   "execution_count": 5,
   "metadata": {},
   "outputs": [
    {
     "output_type": "execute_result",
     "data": {
      "text/plain": "array(['Sunrisers Hyderabad', 'Royal Challengers Bangalore',\n       'Mumbai Indians', 'Rising Pune Supergiant', 'Gujarat Lions',\n       'Kolkata Knight Riders', 'Kings XI Punjab', 'Delhi Daredevils',\n       'Chennai Super Kings', 'Rajasthan Royals', 'Deccan Chargers',\n       'Kochi Tuskers Kerala', 'Pune Warriors', 'Rising Pune Supergiants',\n       'Delhi Capitals'], dtype=object)"
     },
     "metadata": {},
     "execution_count": 5
    }
   ],
   "source": [
    "data['batting_team'].unique()"
   ]
  },
  {
   "cell_type": "code",
   "execution_count": 6,
   "metadata": {},
   "outputs": [
    {
     "output_type": "execute_result",
     "data": {
      "text/plain": "batting_team\nChennai Super Kings            [2008, 2009, 2010, 2011, 2012, 2013, 2014, 201...\nDeccan Chargers                                   [2008, 2009, 2010, 2011, 2012]\nDelhi Capitals                                                            [2019]\nDelhi Daredevils               [2017, 2008, 2009, 2010, 2011, 2012, 2013, 201...\nGujarat Lions                                                       [2017, 2016]\nKings XI Punjab                [2017, 2008, 2009, 2010, 2011, 2012, 2013, 201...\nKochi Tuskers Kerala                                                      [2011]\nKolkata Knight Riders          [2017, 2008, 2009, 2010, 2011, 2012, 2013, 201...\nMumbai Indians                 [2017, 2008, 2009, 2010, 2011, 2012, 2013, 201...\nPune Warriors                                                 [2011, 2012, 2013]\nRajasthan Royals               [2008, 2009, 2010, 2011, 2012, 2013, 2014, 201...\nRising Pune Supergiant                                                    [2017]\nRising Pune Supergiants                                                   [2016]\nRoyal Challengers Bangalore    [2017, 2008, 2009, 2010, 2011, 2012, 2013, 201...\nSunrisers Hyderabad                   [2017, 2013, 2014, 2015, 2016, 2018, 2019]\nName: season, dtype: object"
     },
     "metadata": {},
     "execution_count": 6
    }
   ],
   "source": [
    "data.groupby(by='batting_team')['season'].unique()"
   ]
  },
  {
   "cell_type": "code",
   "execution_count": 7,
   "metadata": {},
   "outputs": [],
   "source": [
    "## dropping the below Teams\n",
    "drop_teams = ['Pune Warriors','Kochi Tuskers Kerala']\n",
    "drop_teams_rowId = data[data['batting_team'].isin(drop_teams) | data['bowling_team'].isin(drop_teams)].index\n",
    "\n",
    "data.drop(labels=drop_teams_rowId,axis=0,inplace=True)"
   ]
  },
  {
   "cell_type": "code",
   "execution_count": 8,
   "metadata": {},
   "outputs": [],
   "source": [
    "## Replacing some teams with other teams and also replacing with Shortnames\n",
    "rename_map = {'Rising Pune Supergiant':'CSK','Chennai Super Kings':'CSK','Rising Pune Supergiants':'CSK',\n",
    "              'Deccan Chargers':'SRH', 'Sunrisers Hyderabad':'SRH',\n",
    "              'Delhi Daredevils' : 'DC','Delhi Capitals':'DC',\n",
    "              'Gujarat Lions' : 'RR', 'Rajasthan Royals':'RR',\n",
    "              'Kings XI Punjab' : 'KXIP',\n",
    "              'Royal Challengers Bangalore' : 'RCB',\n",
    "              'Mumbai Indians' : 'MI',\n",
    "              'Kolkata Knight Riders' : 'KKR'}\n",
    "              \n",
    "data['batting_team'] = data['batting_team'].map(rename_map).fillna(data['batting_team'])\n",
    "data['bowling_team'] = data['bowling_team'].map(rename_map).fillna(data['bowling_team'])"
   ]
  },
  {
   "cell_type": "code",
   "execution_count": 9,
   "metadata": {
    "tags": []
   },
   "outputs": [
    {
     "output_type": "stream",
     "name": "stdout",
     "text": "40\n"
    },
    {
     "output_type": "execute_result",
     "data": {
      "text/plain": "array(['Rajiv Gandhi International Stadium, Uppal',\n       'Maharashtra Cricket Association Stadium',\n       'Saurashtra Cricket Association Stadium', 'Holkar Cricket Stadium',\n       'M Chinnaswamy Stadium', 'Wankhede Stadium', 'Eden Gardens',\n       'Feroz Shah Kotla',\n       'Punjab Cricket Association IS Bindra Stadium, Mohali',\n       'Green Park', 'Punjab Cricket Association Stadium, Mohali',\n       'Sawai Mansingh Stadium', 'MA Chidambaram Stadium, Chepauk',\n       'Dr DY Patil Sports Academy', 'Newlands', \"St George's Park\",\n       'Kingsmead', 'SuperSport Park', 'Buffalo Park',\n       'New Wanderers Stadium', 'De Beers Diamond Oval',\n       'OUTsurance Oval', 'Brabourne Stadium',\n       'Sardar Patel Stadium, Motera', 'Barabati Stadium',\n       'Vidarbha Cricket Association Stadium, Jamtha',\n       'Himachal Pradesh Cricket Association Stadium',\n       'Dr. Y.S. Rajasekhara Reddy ACA-VDCA Cricket Stadium',\n       'Subrata Roy Sahara Stadium',\n       'Shaheed Veer Narayan Singh International Stadium',\n       'JSCA International Stadium Complex', 'Sheikh Zayed Stadium',\n       'Sharjah Cricket Stadium', 'Dubai International Cricket Stadium',\n       'M. A. Chidambaram Stadium', 'Feroz Shah Kotla Ground',\n       'M. Chinnaswamy Stadium', 'Rajiv Gandhi Intl. Cricket Stadium',\n       'IS Bindra Stadium', 'ACA-VDCA Stadium'], dtype=object)"
     },
     "metadata": {},
     "execution_count": 9
    }
   ],
   "source": [
    "## Location and venues\n",
    "print(data['venue'].nunique())\n",
    "data['venue'].unique()"
   ]
  },
  {
   "cell_type": "code",
   "execution_count": 10,
   "metadata": {
    "tags": []
   },
   "outputs": [
    {
     "output_type": "stream",
     "name": "stdout",
     "text": "34\n"
    }
   ],
   "source": [
    "## Mapping the Stadium names(venue), same stadium name is written in different ways\n",
    "rename_stadium = {'Rajiv Gandhi International Stadium, Uppal' : 'RGIS',\n",
    "                    'Maharashtra Cricket Association Stadium':'MCAS',\n",
    "                    'Saurashtra Cricket Association Stadium' : 'SCAS' , \n",
    "                    'Holkar Cricket Stadium': 'HCS',\n",
    "                    'M Chinnaswamy Stadium' : 'MCS',\n",
    "                    'Wankhede Stadium' : 'WS', \n",
    "                    'Eden Gardens':'Eden',\n",
    "                    'Feroz Shah Kotla' : 'FSK',\n",
    "                    'Punjab Cricket Association IS Bindra Stadium, Mohali' : 'PCAS',\n",
    "                    'Green Park' : 'GreenPark', \n",
    "                    'Punjab Cricket Association Stadium, Mohali' : 'PCAS',\n",
    "                    'Sawai Mansingh Stadium' : 'SMS', \n",
    "                    'MA Chidambaram Stadium, Chepauk' : 'MACS',\n",
    "                    'Dr DY Patil Sports Academy' : 'DYPSA', \n",
    "                    'Newlands' : 'Newlands', \n",
    "                    \"St George's Park\" : 'GeorgePark',\n",
    "                    'Kingsmead' : 'Kingsmead', \n",
    "                    'SuperSport Park' : 'SuperSport', \n",
    "                    'Buffalo Park' : 'BuffaloPark',\n",
    "                    'New Wanderers Stadium' : 'NewWanderers', \n",
    "                    'De Beers Diamond Oval' : 'DeBeersDiamond',\n",
    "                    'OUTsurance Oval' : 'OUTsurance', \n",
    "                    'Brabourne Stadium' : 'Brabourne',\n",
    "                    'Sardar Patel Stadium, Motera' : 'SPS',\n",
    "                    'Barabati Stadium' : 'Barabati',\n",
    "                    'Vidarbha Cricket Association Stadium, Jamtha' : 'VCAS',\n",
    "                    'Himachal Pradesh Cricket Association Stadium' : 'HPCAS',\n",
    "                    'Dr. Y.S. Rajasekhara Reddy ACA-VDCA Cricket Stadium' : 'YSRACACS',\n",
    "                    'Subrata Roy Sahara Stadium' : 'SRSS',\n",
    "                    'Shaheed Veer Narayan Singh International Stadium' : 'SVNSIS',\n",
    "                    'JSCA International Stadium Complex' : 'JSCAISC', \n",
    "                    'Sheikh Zayed Stadium' : 'SZS',\n",
    "                    'Sharjah Cricket Stadium' : 'Sharjah', \n",
    "                    'Dubai International Cricket Stadium' : 'DICS',\n",
    "                    'M. A. Chidambaram Stadium' : 'MACS', \n",
    "                    'Feroz Shah Kotla Ground' : 'FSKG',\n",
    "                    'M. Chinnaswamy Stadium' : 'MCS', \n",
    "                    'Rajiv Gandhi Intl. Cricket Stadium' : 'RGIS',\n",
    "                    'IS Bindra Stadium' : 'PCAS', \n",
    "                    'ACA-VDCA Stadium' : 'YSRACACS' }\n",
    "\n",
    "data['venue'] = data['venue'].map(rename_stadium).fillna(data['venue'])\n",
    "print(data['venue'].nunique())"
   ]
  },
  {
   "cell_type": "code",
   "execution_count": 11,
   "metadata": {},
   "outputs": [],
   "source": [
    "data.sort_values(by=['season','match_id','inning'],inplace=True)\n",
    "data.reset_index(drop='index',inplace=True)"
   ]
  },
  {
   "cell_type": "code",
   "execution_count": 12,
   "metadata": {},
   "outputs": [],
   "source": [
    "cols_remove = ['match_id','inning','total_runs', 'wickets_lost','player_dismissed','id','city']\n",
    "data.drop(labels = cols_remove,axis=1,inplace=True)"
   ]
  },
  {
   "cell_type": "code",
   "execution_count": 13,
   "metadata": {},
   "outputs": [
    {
     "output_type": "execute_result",
     "data": {
      "text/plain": "  batting_team bowling_team  over  ball  Cumsum_Total  total_wickets  \\\n0          KKR          RCB     1     1             1              0   \n1          KKR          RCB     1     2             1              0   \n2          KKR          RCB     1     3             2              0   \n3          KKR          RCB     1     4             2              0   \n\n   Last_5overs_runs  Last_5overs_wickets  Total_Score  season venue  \n0               1.0                  0.0          222    2008   MCS  \n1               1.0                  0.0          222    2008   MCS  \n2               2.0                  0.0          222    2008   MCS  \n3               2.0                  0.0          222    2008   MCS  ",
      "text/html": "<div>\n<style scoped>\n    .dataframe tbody tr th:only-of-type {\n        vertical-align: middle;\n    }\n\n    .dataframe tbody tr th {\n        vertical-align: top;\n    }\n\n    .dataframe thead th {\n        text-align: right;\n    }\n</style>\n<table border=\"1\" class=\"dataframe\">\n  <thead>\n    <tr style=\"text-align: right;\">\n      <th></th>\n      <th>batting_team</th>\n      <th>bowling_team</th>\n      <th>over</th>\n      <th>ball</th>\n      <th>Cumsum_Total</th>\n      <th>total_wickets</th>\n      <th>Last_5overs_runs</th>\n      <th>Last_5overs_wickets</th>\n      <th>Total_Score</th>\n      <th>season</th>\n      <th>venue</th>\n    </tr>\n  </thead>\n  <tbody>\n    <tr>\n      <td>0</td>\n      <td>KKR</td>\n      <td>RCB</td>\n      <td>1</td>\n      <td>1</td>\n      <td>1</td>\n      <td>0</td>\n      <td>1.0</td>\n      <td>0.0</td>\n      <td>222</td>\n      <td>2008</td>\n      <td>MCS</td>\n    </tr>\n    <tr>\n      <td>1</td>\n      <td>KKR</td>\n      <td>RCB</td>\n      <td>1</td>\n      <td>2</td>\n      <td>1</td>\n      <td>0</td>\n      <td>1.0</td>\n      <td>0.0</td>\n      <td>222</td>\n      <td>2008</td>\n      <td>MCS</td>\n    </tr>\n    <tr>\n      <td>2</td>\n      <td>KKR</td>\n      <td>RCB</td>\n      <td>1</td>\n      <td>3</td>\n      <td>2</td>\n      <td>0</td>\n      <td>2.0</td>\n      <td>0.0</td>\n      <td>222</td>\n      <td>2008</td>\n      <td>MCS</td>\n    </tr>\n    <tr>\n      <td>3</td>\n      <td>KKR</td>\n      <td>RCB</td>\n      <td>1</td>\n      <td>4</td>\n      <td>2</td>\n      <td>0</td>\n      <td>2.0</td>\n      <td>0.0</td>\n      <td>222</td>\n      <td>2008</td>\n      <td>MCS</td>\n    </tr>\n  </tbody>\n</table>\n</div>"
     },
     "metadata": {},
     "execution_count": 13
    }
   ],
   "source": [
    "data.head(4)"
   ]
  },
  {
   "cell_type": "code",
   "execution_count": 14,
   "metadata": {},
   "outputs": [],
   "source": [
    "## renaming cumsum_total to current_score\n",
    "data.rename(columns={'Cumsum_Total':'Current_Score'},inplace=True)\n"
   ]
  },
  {
   "cell_type": "code",
   "execution_count": 15,
   "metadata": {},
   "outputs": [],
   "source": [
    "## decreasing 1 value from overs\n",
    "data['over'] = data['over'] -1\n",
    "data = data[data['over']>5]"
   ]
  },
  {
   "cell_type": "code",
   "execution_count": 16,
   "metadata": {},
   "outputs": [],
   "source": [
    "### creating dummies\n",
    "final_data = pd.get_dummies(data,columns=['batting_team','bowling_team','venue'])"
   ]
  },
  {
   "cell_type": "code",
   "execution_count": 18,
   "metadata": {},
   "outputs": [
    {
     "output_type": "execute_result",
     "data": {
      "text/plain": "    over  ball  Current_Score  total_wickets  Last_5overs_runs  \\\n38     6     1             62              1              55.0   \n39     6     2             63              1              52.0   \n40     6     3             64              1              47.0   \n\n    Last_5overs_wickets  Total_Score  season  batting_team_CSK  \\\n38                  1.0          222    2008                 0   \n39                  1.0          222    2008                 0   \n40                  1.0          222    2008                 0   \n\n    batting_team_DC  ...  venue_SMS  venue_SPS  venue_SRSS  venue_SVNSIS  \\\n38                0  ...          0          0           0             0   \n39                0  ...          0          0           0             0   \n40                0  ...          0          0           0             0   \n\n    venue_SZS  venue_Sharjah  venue_SuperSport  venue_VCAS  venue_WS  \\\n38          0              0                 0           0         0   \n39          0              0                 0           0         0   \n40          0              0                 0           0         0   \n\n    venue_YSRACACS  \n38               0  \n39               0  \n40               0  \n\n[3 rows x 58 columns]",
      "text/html": "<div>\n<style scoped>\n    .dataframe tbody tr th:only-of-type {\n        vertical-align: middle;\n    }\n\n    .dataframe tbody tr th {\n        vertical-align: top;\n    }\n\n    .dataframe thead th {\n        text-align: right;\n    }\n</style>\n<table border=\"1\" class=\"dataframe\">\n  <thead>\n    <tr style=\"text-align: right;\">\n      <th></th>\n      <th>over</th>\n      <th>ball</th>\n      <th>Current_Score</th>\n      <th>total_wickets</th>\n      <th>Last_5overs_runs</th>\n      <th>Last_5overs_wickets</th>\n      <th>Total_Score</th>\n      <th>season</th>\n      <th>batting_team_CSK</th>\n      <th>batting_team_DC</th>\n      <th>...</th>\n      <th>venue_SMS</th>\n      <th>venue_SPS</th>\n      <th>venue_SRSS</th>\n      <th>venue_SVNSIS</th>\n      <th>venue_SZS</th>\n      <th>venue_Sharjah</th>\n      <th>venue_SuperSport</th>\n      <th>venue_VCAS</th>\n      <th>venue_WS</th>\n      <th>venue_YSRACACS</th>\n    </tr>\n  </thead>\n  <tbody>\n    <tr>\n      <td>38</td>\n      <td>6</td>\n      <td>1</td>\n      <td>62</td>\n      <td>1</td>\n      <td>55.0</td>\n      <td>1.0</td>\n      <td>222</td>\n      <td>2008</td>\n      <td>0</td>\n      <td>0</td>\n      <td>...</td>\n      <td>0</td>\n      <td>0</td>\n      <td>0</td>\n      <td>0</td>\n      <td>0</td>\n      <td>0</td>\n      <td>0</td>\n      <td>0</td>\n      <td>0</td>\n      <td>0</td>\n    </tr>\n    <tr>\n      <td>39</td>\n      <td>6</td>\n      <td>2</td>\n      <td>63</td>\n      <td>1</td>\n      <td>52.0</td>\n      <td>1.0</td>\n      <td>222</td>\n      <td>2008</td>\n      <td>0</td>\n      <td>0</td>\n      <td>...</td>\n      <td>0</td>\n      <td>0</td>\n      <td>0</td>\n      <td>0</td>\n      <td>0</td>\n      <td>0</td>\n      <td>0</td>\n      <td>0</td>\n      <td>0</td>\n      <td>0</td>\n    </tr>\n    <tr>\n      <td>40</td>\n      <td>6</td>\n      <td>3</td>\n      <td>64</td>\n      <td>1</td>\n      <td>47.0</td>\n      <td>1.0</td>\n      <td>222</td>\n      <td>2008</td>\n      <td>0</td>\n      <td>0</td>\n      <td>...</td>\n      <td>0</td>\n      <td>0</td>\n      <td>0</td>\n      <td>0</td>\n      <td>0</td>\n      <td>0</td>\n      <td>0</td>\n      <td>0</td>\n      <td>0</td>\n      <td>0</td>\n    </tr>\n  </tbody>\n</table>\n<p>3 rows × 58 columns</p>\n</div>"
     },
     "metadata": {},
     "execution_count": 18
    }
   ],
   "source": [
    "final_data.head(3)"
   ]
  },
  {
   "cell_type": "code",
   "execution_count": 19,
   "metadata": {},
   "outputs": [],
   "source": [
    "## Splitting the data\n",
    "X_train = final_data.drop(labels='Total_Score',axis=1)[final_data['season']<=2016]\n",
    "X_test = final_data.drop(labels='Total_Score',axis=1)[final_data['season'] > 2016]\n",
    "\n",
    "Y_train = final_data[final_data['season']<=2016]['Total_Score'].values\n",
    "Y_test = final_data[final_data['season'] > 2016]['Total_Score'].values\n",
    "\n",
    "## Removing the season column\n",
    "# Removing the 'date' column\n",
    "X_train.drop(labels='season', axis=True, inplace=True)\n",
    "X_test.drop(labels='season', axis=True, inplace=True)"
   ]
  },
  {
   "cell_type": "code",
   "execution_count": 23,
   "metadata": {},
   "outputs": [],
   "source": [
    "## Metrics\n",
    "def metrics_score(actual_values,predict_values):\n",
    "    print(\"Mean absloute error : \", mean_absolute_error(actual_values,predict_values))\n",
    "    print(\"Mean Squared error : \", mean_squared_error(actual_values,predict_values))\n",
    "    print(\"RMSE : \", np.sqrt(mean_squared_error(actual_values,predict_values)))\n",
    "    print(\"R2 Score : \", r2_score(actual_values,predict_values))\n"
   ]
  },
  {
   "cell_type": "markdown",
   "metadata": {},
   "source": [
    "## Linear Regression Model"
   ]
  },
  {
   "cell_type": "code",
   "execution_count": 20,
   "metadata": {
    "tags": []
   },
   "outputs": [
    {
     "output_type": "execute_result",
     "data": {
      "text/plain": "LinearRegression(copy_X=True, fit_intercept=True, n_jobs=None, normalize=False)"
     },
     "metadata": {},
     "execution_count": 20
    }
   ],
   "source": [
    "regressor = LinearRegression()\n",
    "regressor.fit(X_train,Y_train)\n"
   ]
  },
  {
   "cell_type": "code",
   "execution_count": 24,
   "metadata": {
    "tags": []
   },
   "outputs": [
    {
     "output_type": "stream",
     "name": "stdout",
     "text": "Training metrics\nMean absloute error :  14.14904127108957\nMean Squared error :  363.1296927755925\nRMSE :  19.055962131983588\nR2 Score :  0.5507523019375072\n"
    }
   ],
   "source": [
    "y_train_pred = regressor.predict(X_train)\n",
    "print(\"Training metrics\")\n",
    "metrics_score(Y_train,y_train_pred)"
   ]
  },
  {
   "cell_type": "code",
   "execution_count": 25,
   "metadata": {
    "tags": []
   },
   "outputs": [
    {
     "output_type": "stream",
     "name": "stdout",
     "text": "Testing metrics\nMean absloute error :  15.794007754188387\nMean Squared error :  455.751814581391\nRMSE :  21.34834453959817\nR2 Score :  0.47688270174574965\n"
    }
   ],
   "source": [
    "y_test_pred = regressor.predict(X_test)\n",
    "print(\"Testing metrics\")\n",
    "metrics_score(Y_test,y_test_pred)"
   ]
  },
  {
   "cell_type": "markdown",
   "metadata": {},
   "source": [
    "## Lasso"
   ]
  },
  {
   "cell_type": "code",
   "execution_count": 27,
   "metadata": {},
   "outputs": [
    {
     "output_type": "execute_result",
     "data": {
      "text/plain": "GridSearchCV(cv=5, error_score=nan,\n             estimator=Lasso(alpha=1.0, copy_X=True, fit_intercept=True,\n                             max_iter=1000, normalize=False, positive=False,\n                             precompute=False, random_state=None,\n                             selection='cyclic', tol=0.0001, warm_start=False),\n             iid='deprecated', n_jobs=-1,\n             param_grid={'alpha': [1e-10, 1e-08, 0.001, 0.01, 1, 5, 10, 20,\n                                   30]},\n             pre_dispatch='2*n_jobs', refit=True, return_train_score=False,\n             scoring='neg_mean_squared_error', verbose=0)"
     },
     "metadata": {},
     "execution_count": 27
    }
   ],
   "source": [
    "lasso = Lasso()\n",
    "parameters = {'alpha':[1e-10,1e-8,1e-3,1e-2,1,5,10,20,30]}\n",
    "lassoReg = GridSearchCV(lasso,param_grid=parameters,cv=5,n_jobs=-1,scoring='neg_mean_squared_error')\n",
    "\n",
    "lassoReg.fit(X_train,Y_train)"
   ]
  },
  {
   "cell_type": "code",
   "execution_count": 28,
   "metadata": {
    "tags": []
   },
   "outputs": [
    {
     "output_type": "stream",
     "name": "stdout",
     "text": "Lasso(alpha=1, copy_X=True, fit_intercept=True, max_iter=1000, normalize=False,\n      positive=False, precompute=False, random_state=None, selection='cyclic',\n      tol=0.0001, warm_start=False)\n{'alpha': 1}\n-385.0509158591908\n"
    }
   ],
   "source": [
    "## best parameters\n",
    "print(lassoReg.best_estimator_)\n",
    "print(lassoReg.best_params_)\n",
    "print(lassoReg.best_score_)"
   ]
  },
  {
   "cell_type": "code",
   "execution_count": 29,
   "metadata": {
    "tags": []
   },
   "outputs": [
    {
     "output_type": "stream",
     "name": "stdout",
     "text": "Training metrics\nMean absloute error :  14.422611513661609\nMean Squared error :  382.13404876161894\nRMSE :  19.548249250549752\nR2 Score :  0.5272409687974804\nTesting metrics\nMean absloute error :  15.7186169393189\nMean Squared error :  455.0458791978137\nRMSE :  21.331804405577454\nR2 Score :  0.47769298268986005\n"
    }
   ],
   "source": [
    "y_train_pred = lassoReg.predict(X_train)\n",
    "print(\"Training metrics\")\n",
    "metrics_score(Y_train,y_train_pred)\n",
    "\n",
    "y_test_pred = lassoReg.predict(X_test)\n",
    "print(\"Testing metrics\")\n",
    "metrics_score(Y_test,y_test_pred)"
   ]
  },
  {
   "cell_type": "markdown",
   "metadata": {},
   "source": [
    "## Random Forest"
   ]
  },
  {
   "cell_type": "code",
   "execution_count": 34,
   "metadata": {},
   "outputs": [
    {
     "output_type": "execute_result",
     "data": {
      "text/plain": "GridSearchCV(cv=10, error_score=nan,\n             estimator=RandomForestRegressor(bootstrap=True, ccp_alpha=0.0,\n                                             criterion='mse', max_depth=None,\n                                             max_features='auto',\n                                             max_leaf_nodes=None,\n                                             max_samples=None,\n                                             min_impurity_decrease=0.0,\n                                             min_impurity_split=None,\n                                             min_samples_leaf=1,\n                                             min_samples_split=2,\n                                             min_weight_fraction_leaf=0.0,\n                                             n_estimators=100, n_jobs=None,\n                                             oob_score=False, random_state=1405,\n                                             verbose=0, warm_start=False),\n             iid='deprecated', n_jobs=-1,\n             param_grid={'bootstrap': [True], 'max_depth': [25, 30, 35, 40],\n                         'max_features': ['auto', 'sqrt'],\n                         'n_estimators': [51, 101, 151], 'oob_score': [True]},\n             pre_dispatch='2*n_jobs', refit=True, return_train_score=False,\n             scoring=None, verbose=0)"
     },
     "metadata": {},
     "execution_count": 34
    }
   ],
   "source": [
    "rf = RandomForestRegressor( random_state=1405)\n",
    "\n",
    "parameters = {'n_estimators':[51,101,151],\n",
    "              'max_depth' : [25,30,35,40],\n",
    "              'max_features' : ['auto','sqrt'],\n",
    "               'bootstrap' : [True],\n",
    "               'oob_score' :[True]\n",
    "              }\n",
    "\n",
    "rfcModel = GridSearchCV(estimator = rf, param_grid=parameters,n_jobs=-1,cv=10)\n",
    "rfcModel.fit(X_train,Y_train)"
   ]
  },
  {
   "cell_type": "code",
   "execution_count": 41,
   "metadata": {
    "tags": []
   },
   "outputs": [
    {
     "output_type": "stream",
     "name": "stdout",
     "text": "Training metrics\nMean absloute error :  2.4889630445941893\nMean Squared error :  16.108873725261603\nRMSE :  4.013586142748353\nR2 Score :  0.9800708270807108\nTesting metrics\nMean absloute error :  16.46637334454734\nMean Squared error :  510.18298591731497\nRMSE :  22.58723059423875\nR2 Score :  0.4144059624787517\n"
    }
   ],
   "source": [
    "###\n",
    "y_train_pred = rfcModel.predict(X_train)\n",
    "print(\"Training metrics\")\n",
    "metrics_score(Y_train,y_train_pred)\n",
    "\n",
    "y_test_pred = rfcModel.predict(X_test)\n",
    "print(\"Testing metrics\")\n",
    "metrics_score(Y_test,y_test_pred)"
   ]
  },
  {
   "cell_type": "markdown",
   "metadata": {},
   "source": [
    "### Model got trained more(overfit), need to tune it"
   ]
  },
  {
   "cell_type": "code",
   "execution_count": 42,
   "metadata": {},
   "outputs": [
    {
     "output_type": "execute_result",
     "data": {
      "text/plain": "['predict_score.sav']"
     },
     "metadata": {},
     "execution_count": 42
    }
   ],
   "source": [
    "## Saving the existing model\n",
    "joblib.dump(rfcModel, 'predict_score.sav')"
   ]
  },
  {
   "cell_type": "code",
   "execution_count": null,
   "metadata": {},
   "outputs": [],
   "source": []
  }
 ],
 "metadata": {
  "language_info": {
   "codemirror_mode": {
    "name": "ipython",
    "version": 3
   },
   "file_extension": ".py",
   "mimetype": "text/x-python",
   "name": "python",
   "nbconvert_exporter": "python",
   "pygments_lexer": "ipython3",
   "version": "3.7.4-final"
  },
  "orig_nbformat": 2,
  "kernelspec": {
   "name": "python3",
   "display_name": "Python 3"
  }
 },
 "nbformat": 4,
 "nbformat_minor": 2
}