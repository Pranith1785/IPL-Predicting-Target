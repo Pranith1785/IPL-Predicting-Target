{
 "cells": [
  {
   "cell_type": "code",
   "execution_count": 18,
   "metadata": {},
   "outputs": [],
   "source": [
    "import pandas as pd \n",
    "import numpy as np \n",
    "import os"
   ]
  },
  {
   "cell_type": "code",
   "execution_count": 2,
   "metadata": {},
   "outputs": [],
   "source": [
    "##Reading the data\n",
    "matches_data = pd.read_csv('data/matches.csv')\n",
    "deliveries_data = pd.read_csv('data/deliveries.csv')"
   ]
  },
  {
   "cell_type": "code",
   "execution_count": 3,
   "metadata": {},
   "outputs": [
    {
     "output_type": "execute_result",
     "data": {
      "text/plain": "   id  season       city        date                        team1  \\\n0   1    2017  Hyderabad  2017-04-05          Sunrisers Hyderabad   \n1   2    2017       Pune  2017-04-06               Mumbai Indians   \n2   3    2017     Rajkot  2017-04-07                Gujarat Lions   \n3   4    2017     Indore  2017-04-08       Rising Pune Supergiant   \n4   5    2017  Bangalore  2017-04-08  Royal Challengers Bangalore   \n\n                         team2                  toss_winner toss_decision  \\\n0  Royal Challengers Bangalore  Royal Challengers Bangalore         field   \n1       Rising Pune Supergiant       Rising Pune Supergiant         field   \n2        Kolkata Knight Riders        Kolkata Knight Riders         field   \n3              Kings XI Punjab              Kings XI Punjab         field   \n4             Delhi Daredevils  Royal Challengers Bangalore           bat   \n\n   result  dl_applied                       winner  win_by_runs  \\\n0  normal           0          Sunrisers Hyderabad           35   \n1  normal           0       Rising Pune Supergiant            0   \n2  normal           0        Kolkata Knight Riders            0   \n3  normal           0              Kings XI Punjab            0   \n4  normal           0  Royal Challengers Bangalore           15   \n\n   win_by_wickets player_of_match                                      venue  \\\n0               0    Yuvraj Singh  Rajiv Gandhi International Stadium, Uppal   \n1               7       SPD Smith    Maharashtra Cricket Association Stadium   \n2              10         CA Lynn     Saurashtra Cricket Association Stadium   \n3               6      GJ Maxwell                     Holkar Cricket Stadium   \n4               0       KM Jadhav                      M Chinnaswamy Stadium   \n\n          umpire1        umpire2 umpire3  \n0     AY Dandekar       NJ Llong     NaN  \n1  A Nand Kishore         S Ravi     NaN  \n2     Nitin Menon      CK Nandan     NaN  \n3    AK Chaudhary  C Shamshuddin     NaN  \n4             NaN            NaN     NaN  ",
      "text/html": "<div>\n<style scoped>\n    .dataframe tbody tr th:only-of-type {\n        vertical-align: middle;\n    }\n\n    .dataframe tbody tr th {\n        vertical-align: top;\n    }\n\n    .dataframe thead th {\n        text-align: right;\n    }\n</style>\n<table border=\"1\" class=\"dataframe\">\n  <thead>\n    <tr style=\"text-align: right;\">\n      <th></th>\n      <th>id</th>\n      <th>season</th>\n      <th>city</th>\n      <th>date</th>\n      <th>team1</th>\n      <th>team2</th>\n      <th>toss_winner</th>\n      <th>toss_decision</th>\n      <th>result</th>\n      <th>dl_applied</th>\n      <th>winner</th>\n      <th>win_by_runs</th>\n      <th>win_by_wickets</th>\n      <th>player_of_match</th>\n      <th>venue</th>\n      <th>umpire1</th>\n      <th>umpire2</th>\n      <th>umpire3</th>\n    </tr>\n  </thead>\n  <tbody>\n    <tr>\n      <td>0</td>\n      <td>1</td>\n      <td>2017</td>\n      <td>Hyderabad</td>\n      <td>2017-04-05</td>\n      <td>Sunrisers Hyderabad</td>\n      <td>Royal Challengers Bangalore</td>\n      <td>Royal Challengers Bangalore</td>\n      <td>field</td>\n      <td>normal</td>\n      <td>0</td>\n      <td>Sunrisers Hyderabad</td>\n      <td>35</td>\n      <td>0</td>\n      <td>Yuvraj Singh</td>\n      <td>Rajiv Gandhi International Stadium, Uppal</td>\n      <td>AY Dandekar</td>\n      <td>NJ Llong</td>\n      <td>NaN</td>\n    </tr>\n    <tr>\n      <td>1</td>\n      <td>2</td>\n      <td>2017</td>\n      <td>Pune</td>\n      <td>2017-04-06</td>\n      <td>Mumbai Indians</td>\n      <td>Rising Pune Supergiant</td>\n      <td>Rising Pune Supergiant</td>\n      <td>field</td>\n      <td>normal</td>\n      <td>0</td>\n      <td>Rising Pune Supergiant</td>\n      <td>0</td>\n      <td>7</td>\n      <td>SPD Smith</td>\n      <td>Maharashtra Cricket Association Stadium</td>\n      <td>A Nand Kishore</td>\n      <td>S Ravi</td>\n      <td>NaN</td>\n    </tr>\n    <tr>\n      <td>2</td>\n      <td>3</td>\n      <td>2017</td>\n      <td>Rajkot</td>\n      <td>2017-04-07</td>\n      <td>Gujarat Lions</td>\n      <td>Kolkata Knight Riders</td>\n      <td>Kolkata Knight Riders</td>\n      <td>field</td>\n      <td>normal</td>\n      <td>0</td>\n      <td>Kolkata Knight Riders</td>\n      <td>0</td>\n      <td>10</td>\n      <td>CA Lynn</td>\n      <td>Saurashtra Cricket Association Stadium</td>\n      <td>Nitin Menon</td>\n      <td>CK Nandan</td>\n      <td>NaN</td>\n    </tr>\n    <tr>\n      <td>3</td>\n      <td>4</td>\n      <td>2017</td>\n      <td>Indore</td>\n      <td>2017-04-08</td>\n      <td>Rising Pune Supergiant</td>\n      <td>Kings XI Punjab</td>\n      <td>Kings XI Punjab</td>\n      <td>field</td>\n      <td>normal</td>\n      <td>0</td>\n      <td>Kings XI Punjab</td>\n      <td>0</td>\n      <td>6</td>\n      <td>GJ Maxwell</td>\n      <td>Holkar Cricket Stadium</td>\n      <td>AK Chaudhary</td>\n      <td>C Shamshuddin</td>\n      <td>NaN</td>\n    </tr>\n    <tr>\n      <td>4</td>\n      <td>5</td>\n      <td>2017</td>\n      <td>Bangalore</td>\n      <td>2017-04-08</td>\n      <td>Royal Challengers Bangalore</td>\n      <td>Delhi Daredevils</td>\n      <td>Royal Challengers Bangalore</td>\n      <td>bat</td>\n      <td>normal</td>\n      <td>0</td>\n      <td>Royal Challengers Bangalore</td>\n      <td>15</td>\n      <td>0</td>\n      <td>KM Jadhav</td>\n      <td>M Chinnaswamy Stadium</td>\n      <td>NaN</td>\n      <td>NaN</td>\n      <td>NaN</td>\n    </tr>\n  </tbody>\n</table>\n</div>"
     },
     "metadata": {},
     "execution_count": 3
    }
   ],
   "source": [
    "matches_data.head(5)"
   ]
  },
  {
   "cell_type": "code",
   "execution_count": 4,
   "metadata": {},
   "outputs": [
    {
     "output_type": "execute_result",
     "data": {
      "text/plain": "Index(['id', 'season', 'city', 'date', 'team1', 'team2', 'toss_winner',\n       'toss_decision', 'result', 'dl_applied', 'winner', 'win_by_runs',\n       'win_by_wickets', 'player_of_match', 'venue', 'umpire1', 'umpire2',\n       'umpire3'],\n      dtype='object')"
     },
     "metadata": {},
     "execution_count": 4
    }
   ],
   "source": [
    "##Getting column names\n",
    "matches_data.columns"
   ]
  },
  {
   "cell_type": "code",
   "execution_count": 5,
   "metadata": {},
   "outputs": [],
   "source": [
    "## Using only required columns\n",
    "final_matches_data = matches_data[['id', 'season', 'city','venue']]"
   ]
  },
  {
   "cell_type": "code",
   "execution_count": 6,
   "metadata": {},
   "outputs": [
    {
     "output_type": "execute_result",
     "data": {
      "text/plain": "   match_id  inning         batting_team                 bowling_team  over  \\\n0         1       1  Sunrisers Hyderabad  Royal Challengers Bangalore     1   \n1         1       1  Sunrisers Hyderabad  Royal Challengers Bangalore     1   \n2         1       1  Sunrisers Hyderabad  Royal Challengers Bangalore     1   \n3         1       1  Sunrisers Hyderabad  Royal Challengers Bangalore     1   \n4         1       1  Sunrisers Hyderabad  Royal Challengers Bangalore     1   \n\n   ball    batsman non_striker    bowler  is_super_over  ...  bye_runs  \\\n0     1  DA Warner    S Dhawan  TS Mills              0  ...         0   \n1     2  DA Warner    S Dhawan  TS Mills              0  ...         0   \n2     3  DA Warner    S Dhawan  TS Mills              0  ...         0   \n3     4  DA Warner    S Dhawan  TS Mills              0  ...         0   \n4     5  DA Warner    S Dhawan  TS Mills              0  ...         0   \n\n   legbye_runs  noball_runs  penalty_runs  batsman_runs  extra_runs  \\\n0            0            0             0             0           0   \n1            0            0             0             0           0   \n2            0            0             0             4           0   \n3            0            0             0             0           0   \n4            0            0             0             0           2   \n\n   total_runs  player_dismissed dismissal_kind fielder  \n0           0               NaN            NaN     NaN  \n1           0               NaN            NaN     NaN  \n2           4               NaN            NaN     NaN  \n3           0               NaN            NaN     NaN  \n4           2               NaN            NaN     NaN  \n\n[5 rows x 21 columns]",
      "text/html": "<div>\n<style scoped>\n    .dataframe tbody tr th:only-of-type {\n        vertical-align: middle;\n    }\n\n    .dataframe tbody tr th {\n        vertical-align: top;\n    }\n\n    .dataframe thead th {\n        text-align: right;\n    }\n</style>\n<table border=\"1\" class=\"dataframe\">\n  <thead>\n    <tr style=\"text-align: right;\">\n      <th></th>\n      <th>match_id</th>\n      <th>inning</th>\n      <th>batting_team</th>\n      <th>bowling_team</th>\n      <th>over</th>\n      <th>ball</th>\n      <th>batsman</th>\n      <th>non_striker</th>\n      <th>bowler</th>\n      <th>is_super_over</th>\n      <th>...</th>\n      <th>bye_runs</th>\n      <th>legbye_runs</th>\n      <th>noball_runs</th>\n      <th>penalty_runs</th>\n      <th>batsman_runs</th>\n      <th>extra_runs</th>\n      <th>total_runs</th>\n      <th>player_dismissed</th>\n      <th>dismissal_kind</th>\n      <th>fielder</th>\n    </tr>\n  </thead>\n  <tbody>\n    <tr>\n      <td>0</td>\n      <td>1</td>\n      <td>1</td>\n      <td>Sunrisers Hyderabad</td>\n      <td>Royal Challengers Bangalore</td>\n      <td>1</td>\n      <td>1</td>\n      <td>DA Warner</td>\n      <td>S Dhawan</td>\n      <td>TS Mills</td>\n      <td>0</td>\n      <td>...</td>\n      <td>0</td>\n      <td>0</td>\n      <td>0</td>\n      <td>0</td>\n      <td>0</td>\n      <td>0</td>\n      <td>0</td>\n      <td>NaN</td>\n      <td>NaN</td>\n      <td>NaN</td>\n    </tr>\n    <tr>\n      <td>1</td>\n      <td>1</td>\n      <td>1</td>\n      <td>Sunrisers Hyderabad</td>\n      <td>Royal Challengers Bangalore</td>\n      <td>1</td>\n      <td>2</td>\n      <td>DA Warner</td>\n      <td>S Dhawan</td>\n      <td>TS Mills</td>\n      <td>0</td>\n      <td>...</td>\n      <td>0</td>\n      <td>0</td>\n      <td>0</td>\n      <td>0</td>\n      <td>0</td>\n      <td>0</td>\n      <td>0</td>\n      <td>NaN</td>\n      <td>NaN</td>\n      <td>NaN</td>\n    </tr>\n    <tr>\n      <td>2</td>\n      <td>1</td>\n      <td>1</td>\n      <td>Sunrisers Hyderabad</td>\n      <td>Royal Challengers Bangalore</td>\n      <td>1</td>\n      <td>3</td>\n      <td>DA Warner</td>\n      <td>S Dhawan</td>\n      <td>TS Mills</td>\n      <td>0</td>\n      <td>...</td>\n      <td>0</td>\n      <td>0</td>\n      <td>0</td>\n      <td>0</td>\n      <td>4</td>\n      <td>0</td>\n      <td>4</td>\n      <td>NaN</td>\n      <td>NaN</td>\n      <td>NaN</td>\n    </tr>\n    <tr>\n      <td>3</td>\n      <td>1</td>\n      <td>1</td>\n      <td>Sunrisers Hyderabad</td>\n      <td>Royal Challengers Bangalore</td>\n      <td>1</td>\n      <td>4</td>\n      <td>DA Warner</td>\n      <td>S Dhawan</td>\n      <td>TS Mills</td>\n      <td>0</td>\n      <td>...</td>\n      <td>0</td>\n      <td>0</td>\n      <td>0</td>\n      <td>0</td>\n      <td>0</td>\n      <td>0</td>\n      <td>0</td>\n      <td>NaN</td>\n      <td>NaN</td>\n      <td>NaN</td>\n    </tr>\n    <tr>\n      <td>4</td>\n      <td>1</td>\n      <td>1</td>\n      <td>Sunrisers Hyderabad</td>\n      <td>Royal Challengers Bangalore</td>\n      <td>1</td>\n      <td>5</td>\n      <td>DA Warner</td>\n      <td>S Dhawan</td>\n      <td>TS Mills</td>\n      <td>0</td>\n      <td>...</td>\n      <td>0</td>\n      <td>0</td>\n      <td>0</td>\n      <td>0</td>\n      <td>0</td>\n      <td>2</td>\n      <td>2</td>\n      <td>NaN</td>\n      <td>NaN</td>\n      <td>NaN</td>\n    </tr>\n  </tbody>\n</table>\n<p>5 rows × 21 columns</p>\n</div>"
     },
     "metadata": {},
     "execution_count": 6
    }
   ],
   "source": [
    "deliveries_data.head(5)"
   ]
  },
  {
   "cell_type": "code",
   "execution_count": 7,
   "metadata": {},
   "outputs": [
    {
     "output_type": "execute_result",
     "data": {
      "text/plain": "Index(['match_id', 'inning', 'batting_team', 'bowling_team', 'over', 'ball',\n       'batsman', 'non_striker', 'bowler', 'is_super_over', 'wide_runs',\n       'bye_runs', 'legbye_runs', 'noball_runs', 'penalty_runs',\n       'batsman_runs', 'extra_runs', 'total_runs', 'player_dismissed',\n       'dismissal_kind', 'fielder'],\n      dtype='object')"
     },
     "metadata": {},
     "execution_count": 7
    }
   ],
   "source": [
    "## Column names\n",
    "deliveries_data.columns"
   ]
  },
  {
   "cell_type": "code",
   "execution_count": 8,
   "metadata": {
    "tags": []
   },
   "outputs": [
    {
     "output_type": "stream",
     "name": "stdout",
     "text": "Total Records : 179078\nRecords with super over :  81\n"
    }
   ],
   "source": [
    "print(\"Total Records :\", deliveries_data.shape[0])\n",
    "print(\"Records with super over : \",deliveries_data[deliveries_data['is_super_over'] == 1].shape[0])"
   ]
  },
  {
   "cell_type": "code",
   "execution_count": 9,
   "metadata": {},
   "outputs": [],
   "source": [
    "## Removing records with Super over\n",
    "super_over_rowIds = deliveries_data[deliveries_data['is_super_over'] == 1].index\n",
    "deliveries_data.drop(labels= super_over_rowIds,axis=0,inplace=True)\n",
    "\n",
    "## Removing records with innings 3, 4 and 5\n",
    "deliveries_data = deliveries_data[deliveries_data['inning'].isin([1,2])]\n",
    "\n",
    "## Dropping columns \n",
    "drop_cols = ['batsman', 'non_striker', 'bowler', 'is_super_over', 'wide_runs', 'bye_runs', 'legbye_runs', \n",
    "             'noball_runs','penalty_runs','batsman_runs', 'extra_runs','dismissal_kind', 'fielder']\n",
    "\n",
    "deliveries_data.drop(labels=drop_cols, axis=1, inplace =True)"
   ]
  },
  {
   "cell_type": "code",
   "execution_count": 10,
   "metadata": {},
   "outputs": [
    {
     "output_type": "execute_result",
     "data": {
      "text/plain": "(178982, 8)"
     },
     "metadata": {},
     "execution_count": 10
    }
   ],
   "source": [
    "deliveries_data.shape"
   ]
  },
  {
   "cell_type": "code",
   "execution_count": 11,
   "metadata": {},
   "outputs": [],
   "source": [
    "## finding cummulative total and wickets lost\n",
    "deliveries_data['Cumsum_Total'] = deliveries_data.groupby(by=['match_id', 'inning'])['total_runs'].apply(lambda x : x.cumsum())\n",
    "#\n",
    "deliveries_data['wickets_lost'] = np.where(deliveries_data['player_dismissed'].isnull(),0,1)\n",
    "deliveries_data['total_wickets'] = deliveries_data.groupby(by=['match_id', 'inning'])['wickets_lost'].apply(lambda x : x.cumsum())\n",
    "\n",
    "## Runs scored and wicket lost in last 5 overs\n"
   ]
  },
  {
   "cell_type": "code",
   "execution_count": 12,
   "metadata": {},
   "outputs": [
    {
     "output_type": "execute_result",
     "data": {
      "text/plain": "      match_id  inning                 batting_team  \\\n0            1       1          Sunrisers Hyderabad   \n1            1       2  Royal Challengers Bangalore   \n2            2       1               Mumbai Indians   \n3            2       2       Rising Pune Supergiant   \n4            3       1                Gujarat Lions   \n...        ...     ...                          ...   \n1505     11413       2               Delhi Capitals   \n1506     11414       1               Delhi Capitals   \n1507     11414       2          Chennai Super Kings   \n1508     11415       1               Mumbai Indians   \n1509     11415       2          Chennai Super Kings   \n\n                     bowling_team  over  ball  total_runs player_dismissed  \\\n0     Royal Challengers Bangalore    20     6           6     Yuvraj Singh   \n1             Sunrisers Hyderabad    20     4           0        YS Chahal   \n2          Rising Pune Supergiant    20     7           1       TG Southee   \n3                  Mumbai Indians    20     5           6        BA Stokes   \n4           Kolkata Knight Riders    20     6           4       KD Karthik   \n...                           ...   ...   ...         ...              ...   \n1505          Sunrisers Hyderabad    20     6           4         A Mishra   \n1506          Chennai Super Kings    20     6           6         TA Boult   \n1507               Delhi Capitals    19     6           8         MS Dhoni   \n1508          Chennai Super Kings    20     6           4   MJ McClenaghan   \n1509               Mumbai Indians    20     6           0        SN Thakur   \n\n      Cumsum_Total  wickets_lost  total_wickets  \n0              207             0              4  \n1              172             1             10  \n2              184             0              8  \n3              187             0              3  \n4              183             0              4  \n...            ...           ...            ...  \n1505           170             0              7  \n1506           155             0              9  \n1507           162             0              4  \n1508           152             0              8  \n1509           157             1              7  \n\n[1510 rows x 11 columns]",
      "text/html": "<div>\n<style scoped>\n    .dataframe tbody tr th:only-of-type {\n        vertical-align: middle;\n    }\n\n    .dataframe tbody tr th {\n        vertical-align: top;\n    }\n\n    .dataframe thead th {\n        text-align: right;\n    }\n</style>\n<table border=\"1\" class=\"dataframe\">\n  <thead>\n    <tr style=\"text-align: right;\">\n      <th></th>\n      <th>match_id</th>\n      <th>inning</th>\n      <th>batting_team</th>\n      <th>bowling_team</th>\n      <th>over</th>\n      <th>ball</th>\n      <th>total_runs</th>\n      <th>player_dismissed</th>\n      <th>Cumsum_Total</th>\n      <th>wickets_lost</th>\n      <th>total_wickets</th>\n    </tr>\n  </thead>\n  <tbody>\n    <tr>\n      <td>0</td>\n      <td>1</td>\n      <td>1</td>\n      <td>Sunrisers Hyderabad</td>\n      <td>Royal Challengers Bangalore</td>\n      <td>20</td>\n      <td>6</td>\n      <td>6</td>\n      <td>Yuvraj Singh</td>\n      <td>207</td>\n      <td>0</td>\n      <td>4</td>\n    </tr>\n    <tr>\n      <td>1</td>\n      <td>1</td>\n      <td>2</td>\n      <td>Royal Challengers Bangalore</td>\n      <td>Sunrisers Hyderabad</td>\n      <td>20</td>\n      <td>4</td>\n      <td>0</td>\n      <td>YS Chahal</td>\n      <td>172</td>\n      <td>1</td>\n      <td>10</td>\n    </tr>\n    <tr>\n      <td>2</td>\n      <td>2</td>\n      <td>1</td>\n      <td>Mumbai Indians</td>\n      <td>Rising Pune Supergiant</td>\n      <td>20</td>\n      <td>7</td>\n      <td>1</td>\n      <td>TG Southee</td>\n      <td>184</td>\n      <td>0</td>\n      <td>8</td>\n    </tr>\n    <tr>\n      <td>3</td>\n      <td>2</td>\n      <td>2</td>\n      <td>Rising Pune Supergiant</td>\n      <td>Mumbai Indians</td>\n      <td>20</td>\n      <td>5</td>\n      <td>6</td>\n      <td>BA Stokes</td>\n      <td>187</td>\n      <td>0</td>\n      <td>3</td>\n    </tr>\n    <tr>\n      <td>4</td>\n      <td>3</td>\n      <td>1</td>\n      <td>Gujarat Lions</td>\n      <td>Kolkata Knight Riders</td>\n      <td>20</td>\n      <td>6</td>\n      <td>4</td>\n      <td>KD Karthik</td>\n      <td>183</td>\n      <td>0</td>\n      <td>4</td>\n    </tr>\n    <tr>\n      <td>...</td>\n      <td>...</td>\n      <td>...</td>\n      <td>...</td>\n      <td>...</td>\n      <td>...</td>\n      <td>...</td>\n      <td>...</td>\n      <td>...</td>\n      <td>...</td>\n      <td>...</td>\n      <td>...</td>\n    </tr>\n    <tr>\n      <td>1505</td>\n      <td>11413</td>\n      <td>2</td>\n      <td>Delhi Capitals</td>\n      <td>Sunrisers Hyderabad</td>\n      <td>20</td>\n      <td>6</td>\n      <td>4</td>\n      <td>A Mishra</td>\n      <td>170</td>\n      <td>0</td>\n      <td>7</td>\n    </tr>\n    <tr>\n      <td>1506</td>\n      <td>11414</td>\n      <td>1</td>\n      <td>Delhi Capitals</td>\n      <td>Chennai Super Kings</td>\n      <td>20</td>\n      <td>6</td>\n      <td>6</td>\n      <td>TA Boult</td>\n      <td>155</td>\n      <td>0</td>\n      <td>9</td>\n    </tr>\n    <tr>\n      <td>1507</td>\n      <td>11414</td>\n      <td>2</td>\n      <td>Chennai Super Kings</td>\n      <td>Delhi Capitals</td>\n      <td>19</td>\n      <td>6</td>\n      <td>8</td>\n      <td>MS Dhoni</td>\n      <td>162</td>\n      <td>0</td>\n      <td>4</td>\n    </tr>\n    <tr>\n      <td>1508</td>\n      <td>11415</td>\n      <td>1</td>\n      <td>Mumbai Indians</td>\n      <td>Chennai Super Kings</td>\n      <td>20</td>\n      <td>6</td>\n      <td>4</td>\n      <td>MJ McClenaghan</td>\n      <td>152</td>\n      <td>0</td>\n      <td>8</td>\n    </tr>\n    <tr>\n      <td>1509</td>\n      <td>11415</td>\n      <td>2</td>\n      <td>Chennai Super Kings</td>\n      <td>Mumbai Indians</td>\n      <td>20</td>\n      <td>6</td>\n      <td>0</td>\n      <td>SN Thakur</td>\n      <td>157</td>\n      <td>1</td>\n      <td>7</td>\n    </tr>\n  </tbody>\n</table>\n<p>1510 rows × 11 columns</p>\n</div>"
     },
     "metadata": {},
     "execution_count": 12
    }
   ],
   "source": [
    "deliveries_data.groupby(['match_id', 'inning'],as_index=False).last()"
   ]
  },
  {
   "cell_type": "code",
   "execution_count": 13,
   "metadata": {},
   "outputs": [],
   "source": [
    "for i in range(30):\n",
    "    deliveries_data['Lag_Runs_'+str(i+1)] = deliveries_data.groupby(by=['match_id', 'inning'])['total_runs'].shift(i).fillna(0)\n",
    "    deliveries_data['Lag_Wickets_'+str(i+1)] = deliveries_data.groupby(by=['match_id', 'inning'])['wickets_lost'].shift(i).fillna(0)\n",
    "\n",
    "## Last 5overs runs\n",
    "col_lagruns = deliveries_data.filter(regex='Lag_Runs_').columns\n",
    "deliveries_data['Last_5overs_runs'] = deliveries_data[col_lagruns].sum(axis=1)\n",
    "deliveries_data.drop(labels=col_lagruns,axis=1,inplace=True)\n",
    "\n",
    "## Last 5overs wickets\n",
    "col_lagWkts = deliveries_data.filter(regex='Lag_Wickets_').columns\n",
    "deliveries_data['Last_5overs_wickets'] = deliveries_data[col_lagWkts].sum(axis=1)\n",
    "deliveries_data.drop(labels=col_lagWkts,axis=1,inplace=True)"
   ]
  },
  {
   "cell_type": "code",
   "execution_count": 14,
   "metadata": {},
   "outputs": [
    {
     "output_type": "execute_result",
     "data": {
      "text/plain": "      match_id  inning                 batting_team  \\\n0            1       1          Sunrisers Hyderabad   \n1            1       2  Royal Challengers Bangalore   \n2            2       1               Mumbai Indians   \n3            2       2       Rising Pune Supergiant   \n4            3       1                Gujarat Lions   \n...        ...     ...                          ...   \n1505     11413       2               Delhi Capitals   \n1506     11414       1               Delhi Capitals   \n1507     11414       2          Chennai Super Kings   \n1508     11415       1               Mumbai Indians   \n1509     11415       2          Chennai Super Kings   \n\n                     bowling_team  over  ball  total_runs player_dismissed  \\\n0     Royal Challengers Bangalore    20     6           6     Yuvraj Singh   \n1             Sunrisers Hyderabad    20     4           0        YS Chahal   \n2          Rising Pune Supergiant    20     7           1       TG Southee   \n3                  Mumbai Indians    20     5           6        BA Stokes   \n4           Kolkata Knight Riders    20     6           4       KD Karthik   \n...                           ...   ...   ...         ...              ...   \n1505          Sunrisers Hyderabad    20     6           4         A Mishra   \n1506          Chennai Super Kings    20     6           6         TA Boult   \n1507               Delhi Capitals    19     6           8         MS Dhoni   \n1508          Chennai Super Kings    20     6           4   MJ McClenaghan   \n1509               Mumbai Indians    20     6           0        SN Thakur   \n\n      Cumsum_Total  wickets_lost  total_wickets  Last_5overs_runs  \\\n0              207             0              4              56.0   \n1              172             1             10              40.0   \n2              184             0              8              59.0   \n3              187             0              3              48.0   \n4              183             0              4              57.0   \n...            ...           ...            ...               ...   \n1505           170             0              7              55.0   \n1506           155             0              9              54.0   \n1507           162             0              4              41.0   \n1508           152             0              8              47.0   \n1509           157             1              7              65.0   \n\n      Last_5overs_wickets  \n0                     1.0  \n1                     5.0  \n2                     3.0  \n3                     1.0  \n4                     1.0  \n...                   ...  \n1505                  3.0  \n1506                  4.0  \n1507                  2.0  \n1508                  3.0  \n1509                  3.0  \n\n[1510 rows x 13 columns]",
      "text/html": "<div>\n<style scoped>\n    .dataframe tbody tr th:only-of-type {\n        vertical-align: middle;\n    }\n\n    .dataframe tbody tr th {\n        vertical-align: top;\n    }\n\n    .dataframe thead th {\n        text-align: right;\n    }\n</style>\n<table border=\"1\" class=\"dataframe\">\n  <thead>\n    <tr style=\"text-align: right;\">\n      <th></th>\n      <th>match_id</th>\n      <th>inning</th>\n      <th>batting_team</th>\n      <th>bowling_team</th>\n      <th>over</th>\n      <th>ball</th>\n      <th>total_runs</th>\n      <th>player_dismissed</th>\n      <th>Cumsum_Total</th>\n      <th>wickets_lost</th>\n      <th>total_wickets</th>\n      <th>Last_5overs_runs</th>\n      <th>Last_5overs_wickets</th>\n    </tr>\n  </thead>\n  <tbody>\n    <tr>\n      <td>0</td>\n      <td>1</td>\n      <td>1</td>\n      <td>Sunrisers Hyderabad</td>\n      <td>Royal Challengers Bangalore</td>\n      <td>20</td>\n      <td>6</td>\n      <td>6</td>\n      <td>Yuvraj Singh</td>\n      <td>207</td>\n      <td>0</td>\n      <td>4</td>\n      <td>56.0</td>\n      <td>1.0</td>\n    </tr>\n    <tr>\n      <td>1</td>\n      <td>1</td>\n      <td>2</td>\n      <td>Royal Challengers Bangalore</td>\n      <td>Sunrisers Hyderabad</td>\n      <td>20</td>\n      <td>4</td>\n      <td>0</td>\n      <td>YS Chahal</td>\n      <td>172</td>\n      <td>1</td>\n      <td>10</td>\n      <td>40.0</td>\n      <td>5.0</td>\n    </tr>\n    <tr>\n      <td>2</td>\n      <td>2</td>\n      <td>1</td>\n      <td>Mumbai Indians</td>\n      <td>Rising Pune Supergiant</td>\n      <td>20</td>\n      <td>7</td>\n      <td>1</td>\n      <td>TG Southee</td>\n      <td>184</td>\n      <td>0</td>\n      <td>8</td>\n      <td>59.0</td>\n      <td>3.0</td>\n    </tr>\n    <tr>\n      <td>3</td>\n      <td>2</td>\n      <td>2</td>\n      <td>Rising Pune Supergiant</td>\n      <td>Mumbai Indians</td>\n      <td>20</td>\n      <td>5</td>\n      <td>6</td>\n      <td>BA Stokes</td>\n      <td>187</td>\n      <td>0</td>\n      <td>3</td>\n      <td>48.0</td>\n      <td>1.0</td>\n    </tr>\n    <tr>\n      <td>4</td>\n      <td>3</td>\n      <td>1</td>\n      <td>Gujarat Lions</td>\n      <td>Kolkata Knight Riders</td>\n      <td>20</td>\n      <td>6</td>\n      <td>4</td>\n      <td>KD Karthik</td>\n      <td>183</td>\n      <td>0</td>\n      <td>4</td>\n      <td>57.0</td>\n      <td>1.0</td>\n    </tr>\n    <tr>\n      <td>...</td>\n      <td>...</td>\n      <td>...</td>\n      <td>...</td>\n      <td>...</td>\n      <td>...</td>\n      <td>...</td>\n      <td>...</td>\n      <td>...</td>\n      <td>...</td>\n      <td>...</td>\n      <td>...</td>\n      <td>...</td>\n      <td>...</td>\n    </tr>\n    <tr>\n      <td>1505</td>\n      <td>11413</td>\n      <td>2</td>\n      <td>Delhi Capitals</td>\n      <td>Sunrisers Hyderabad</td>\n      <td>20</td>\n      <td>6</td>\n      <td>4</td>\n      <td>A Mishra</td>\n      <td>170</td>\n      <td>0</td>\n      <td>7</td>\n      <td>55.0</td>\n      <td>3.0</td>\n    </tr>\n    <tr>\n      <td>1506</td>\n      <td>11414</td>\n      <td>1</td>\n      <td>Delhi Capitals</td>\n      <td>Chennai Super Kings</td>\n      <td>20</td>\n      <td>6</td>\n      <td>6</td>\n      <td>TA Boult</td>\n      <td>155</td>\n      <td>0</td>\n      <td>9</td>\n      <td>54.0</td>\n      <td>4.0</td>\n    </tr>\n    <tr>\n      <td>1507</td>\n      <td>11414</td>\n      <td>2</td>\n      <td>Chennai Super Kings</td>\n      <td>Delhi Capitals</td>\n      <td>19</td>\n      <td>6</td>\n      <td>8</td>\n      <td>MS Dhoni</td>\n      <td>162</td>\n      <td>0</td>\n      <td>4</td>\n      <td>41.0</td>\n      <td>2.0</td>\n    </tr>\n    <tr>\n      <td>1508</td>\n      <td>11415</td>\n      <td>1</td>\n      <td>Mumbai Indians</td>\n      <td>Chennai Super Kings</td>\n      <td>20</td>\n      <td>6</td>\n      <td>4</td>\n      <td>MJ McClenaghan</td>\n      <td>152</td>\n      <td>0</td>\n      <td>8</td>\n      <td>47.0</td>\n      <td>3.0</td>\n    </tr>\n    <tr>\n      <td>1509</td>\n      <td>11415</td>\n      <td>2</td>\n      <td>Chennai Super Kings</td>\n      <td>Mumbai Indians</td>\n      <td>20</td>\n      <td>6</td>\n      <td>0</td>\n      <td>SN Thakur</td>\n      <td>157</td>\n      <td>1</td>\n      <td>7</td>\n      <td>65.0</td>\n      <td>3.0</td>\n    </tr>\n  </tbody>\n</table>\n<p>1510 rows × 13 columns</p>\n</div>"
     },
     "metadata": {},
     "execution_count": 14
    }
   ],
   "source": [
    "deliveries_data.groupby(by=['match_id', 'inning'],as_index=False).last()"
   ]
  },
  {
   "cell_type": "code",
   "execution_count": 15,
   "metadata": {},
   "outputs": [],
   "source": [
    "team_score_data = deliveries_data.groupby(by=['match_id', 'inning'],as_index=False)['Cumsum_Total'].max()\n",
    "team_score_data.rename(columns={\"Cumsum_Total\":\"Total_Score\"},inplace=True)"
   ]
  },
  {
   "cell_type": "code",
   "execution_count": 16,
   "metadata": {},
   "outputs": [],
   "source": [
    "## Merging with team score data and final matches data\n",
    "final_score_data = deliveries_data.merge(team_score_data,how='left',on=['match_id', 'inning'])\n",
    "final_score_data = final_score_data.merge(final_matches_data,how='left',left_on='match_id',right_on='id')"
   ]
  },
  {
   "cell_type": "code",
   "execution_count": 17,
   "metadata": {},
   "outputs": [],
   "source": [
    "final_score_data.to_csv(\"data/final_score_data.csv\",index=False)"
   ]
  },
  {
   "cell_type": "code",
   "execution_count": null,
   "metadata": {},
   "outputs": [],
   "source": []
  }
 ],
 "metadata": {
  "language_info": {
   "codemirror_mode": {
    "name": "ipython",
    "version": 3
   },
   "file_extension": ".py",
   "mimetype": "text/x-python",
   "name": "python",
   "nbconvert_exporter": "python",
   "pygments_lexer": "ipython3",
   "version": "3.7.4-final"
  },
  "orig_nbformat": 2,
  "kernelspec": {
   "name": "python3",
   "display_name": "Python 3"
  }
 },
 "nbformat": 4,
 "nbformat_minor": 2
}